{
 "cells": [
  {
   "cell_type": "markdown",
   "metadata": {
    "papermill": {
     "duration": 0.012765,
     "end_time": "2021-01-12T19:06:36.750896",
     "exception": false,
     "start_time": "2021-01-12T19:06:36.738131",
     "status": "completed"
    },
    "tags": []
   },
   "source": [
    "# Tabular Playground - Jan 2021 - AutoML"
   ]
  },
  {
   "cell_type": "markdown",
   "metadata": {
    "papermill": {
     "duration": 0.011577,
     "end_time": "2021-01-12T19:06:36.774753",
     "exception": false,
     "start_time": "2021-01-12T19:06:36.763176",
     "status": "completed"
    },
    "tags": []
   },
   "source": [
    "# 1. Librerias a utilizar"
   ]
  },
  {
   "cell_type": "code",
   "execution_count": 1,
   "metadata": {
    "_cell_guid": "b1076dfc-b9ad-4769-8c92-a6c4dae69d19",
    "_uuid": "8f2839f25d086af736a60e9eeb907d3b93b6e0e5",
    "execution": {
     "iopub.execute_input": "2021-01-12T19:06:36.808376Z",
     "iopub.status.busy": "2021-01-12T19:06:36.807601Z",
     "iopub.status.idle": "2021-01-12T19:06:48.830819Z",
     "shell.execute_reply": "2021-01-12T19:06:48.831893Z"
    },
    "papermill": {
     "duration": 12.04564,
     "end_time": "2021-01-12T19:06:48.832118",
     "exception": false,
     "start_time": "2021-01-12T19:06:36.786478",
     "status": "completed"
    },
    "tags": []
   },
   "outputs": [
    {
     "name": "stdout",
     "output_type": "stream",
     "text": [
      "/kaggle/input/tabular-playground-series-jan-2021/sample_submission.csv\n",
      "/kaggle/input/tabular-playground-series-jan-2021/train.csv\n",
      "/kaggle/input/tabular-playground-series-jan-2021/test.csv\n"
     ]
    },
    {
     "data": {
      "text/html": [
       "<style type='text/css'>\n",
       ".datatable table.frame { margin-bottom: 0; }\n",
       ".datatable table.frame thead { border-bottom: none; }\n",
       ".datatable table.frame tr.coltypes td {  color: #FFFFFF;  line-height: 6px;  padding: 0 0.5em;}\n",
       ".datatable .bool    { background: #DDDD99; }\n",
       ".datatable .object  { background: #565656; }\n",
       ".datatable .int     { background: #5D9E5D; }\n",
       ".datatable .float   { background: #4040CC; }\n",
       ".datatable .str     { background: #CC4040; }\n",
       ".datatable .row_index {  background: var(--jp-border-color3);  border-right: 1px solid var(--jp-border-color0);  color: var(--jp-ui-font-color3);  font-size: 9px;}\n",
       ".datatable .frame tr.coltypes .row_index {  background: var(--jp-border-color0);}\n",
       ".datatable th:nth-child(2) { padding-left: 12px; }\n",
       ".datatable .hellipsis {  color: var(--jp-cell-editor-border-color);}\n",
       ".datatable .vellipsis {  background: var(--jp-layout-color0);  color: var(--jp-cell-editor-border-color);}\n",
       ".datatable .na {  color: var(--jp-cell-editor-border-color);  font-size: 80%;}\n",
       ".datatable .footer { font-size: 9px; }\n",
       ".datatable .frame_dimensions {  background: var(--jp-border-color3);  border-top: 1px solid var(--jp-border-color0);  color: var(--jp-ui-font-color3);  display: inline-block;  opacity: 0.6;  padding: 1px 10px 1px 5px;}\n",
       "</style>\n"
      ],
      "text/plain": [
       "<IPython.core.display.HTML object>"
      ]
     },
     "metadata": {},
     "output_type": "display_data"
    },
    {
     "name": "stdout",
     "output_type": "stream",
     "text": [
      "3.32.0.2\n",
      "Checking whether there is an H2O instance running at http://localhost:54321 ..... not found.\n",
      "Attempting to start a local H2O server...\n",
      "  Java Version: openjdk version \"11.0.9.1\" 2020-11-04; OpenJDK Runtime Environment (build 11.0.9.1+1-Ubuntu-0ubuntu1.18.04); OpenJDK 64-Bit Server VM (build 11.0.9.1+1-Ubuntu-0ubuntu1.18.04, mixed mode, sharing)\n",
      "  Starting server from /opt/conda/lib/python3.7/site-packages/h2o/backend/bin/h2o.jar\n",
      "  Ice root: /tmp/tmp17iaj0qx\n",
      "  JVM stdout: /tmp/tmp17iaj0qx/h2o_unknownUser_started_from_python.out\n",
      "  JVM stderr: /tmp/tmp17iaj0qx/h2o_unknownUser_started_from_python.err\n",
      "  Server is running at http://127.0.0.1:54321\n",
      "Connecting to H2O server at http://127.0.0.1:54321 ... successful.\n"
     ]
    },
    {
     "data": {
      "text/html": [
       "<div style=\"overflow:auto\"><table style=\"width:50%\"><tr><td>H2O_cluster_uptime:</td>\n",
       "<td>02 secs</td></tr>\n",
       "<tr><td>H2O_cluster_timezone:</td>\n",
       "<td>Etc/UTC</td></tr>\n",
       "<tr><td>H2O_data_parsing_timezone:</td>\n",
       "<td>UTC</td></tr>\n",
       "<tr><td>H2O_cluster_version:</td>\n",
       "<td>3.32.0.2</td></tr>\n",
       "<tr><td>H2O_cluster_version_age:</td>\n",
       "<td>1 month and 26 days </td></tr>\n",
       "<tr><td>H2O_cluster_name:</td>\n",
       "<td>H2O_from_python_unknownUser_kmz300</td></tr>\n",
       "<tr><td>H2O_cluster_total_nodes:</td>\n",
       "<td>1</td></tr>\n",
       "<tr><td>H2O_cluster_free_memory:</td>\n",
       "<td>16 Gb</td></tr>\n",
       "<tr><td>H2O_cluster_total_cores:</td>\n",
       "<td>2</td></tr>\n",
       "<tr><td>H2O_cluster_allowed_cores:</td>\n",
       "<td>2</td></tr>\n",
       "<tr><td>H2O_cluster_status:</td>\n",
       "<td>accepting new members, healthy</td></tr>\n",
       "<tr><td>H2O_connection_url:</td>\n",
       "<td>http://127.0.0.1:54321</td></tr>\n",
       "<tr><td>H2O_connection_proxy:</td>\n",
       "<td>{\"http\": null, \"https\": null}</td></tr>\n",
       "<tr><td>H2O_internal_security:</td>\n",
       "<td>False</td></tr>\n",
       "<tr><td>H2O_API_Extensions:</td>\n",
       "<td>Amazon S3, XGBoost, Algos, AutoML, Core V3, TargetEncoder, Core V4</td></tr>\n",
       "<tr><td>Python_version:</td>\n",
       "<td>3.7.6 final</td></tr></table></div>"
      ],
      "text/plain": [
       "--------------------------  ------------------------------------------------------------------\n",
       "H2O_cluster_uptime:         02 secs\n",
       "H2O_cluster_timezone:       Etc/UTC\n",
       "H2O_data_parsing_timezone:  UTC\n",
       "H2O_cluster_version:        3.32.0.2\n",
       "H2O_cluster_version_age:    1 month and 26 days\n",
       "H2O_cluster_name:           H2O_from_python_unknownUser_kmz300\n",
       "H2O_cluster_total_nodes:    1\n",
       "H2O_cluster_free_memory:    16 Gb\n",
       "H2O_cluster_total_cores:    2\n",
       "H2O_cluster_allowed_cores:  2\n",
       "H2O_cluster_status:         accepting new members, healthy\n",
       "H2O_connection_url:         http://127.0.0.1:54321\n",
       "H2O_connection_proxy:       {\"http\": null, \"https\": null}\n",
       "H2O_internal_security:      False\n",
       "H2O_API_Extensions:         Amazon S3, XGBoost, Algos, AutoML, Core V3, TargetEncoder, Core V4\n",
       "Python_version:             3.7.6 final\n",
       "--------------------------  ------------------------------------------------------------------"
      ]
     },
     "metadata": {},
     "output_type": "display_data"
    }
   ],
   "source": [
    "import numpy as np\n",
    "import pandas as pd\n",
    "\n",
    "import os\n",
    "for dirname, _, filenames in os.walk('/kaggle/input'):\n",
    "    for filename in filenames:\n",
    "        print(os.path.join(dirname, filename))\n",
    "        \n",
    "import matplotlib.pyplot as plt\n",
    "import seaborn as sns\n",
    "\n",
    "from pathlib import Path\n",
    "input_path = Path('/kaggle/input/tabular-playground-series-jan-2021/')\n",
    "\n",
    "\n",
    "from sklearn.model_selection import train_test_split\n",
    "from sklearn.metrics import mean_squared_error\n",
    "\n",
    "\n",
    "#Pipeline\n",
    "from sklearn.pipeline import Pipeline\n",
    "\n",
    "#Tuning de Parametros\n",
    "from sklearn.model_selection import GridSearchCV\n",
    "\n",
    "import xgboost as xgb\n",
    "import lightgbm as lgb\n",
    "from catboost import CatBoost, Pool\n",
    "\n",
    "import h2o\n",
    "print(h2o.__version__)\n",
    "from h2o.automl import H2OAutoML\n",
    "\n",
    "h2o.init(max_mem_size='16G')"
   ]
  },
  {
   "cell_type": "markdown",
   "metadata": {
    "papermill": {
     "duration": 0.034393,
     "end_time": "2021-01-12T19:06:48.902576",
     "exception": false,
     "start_time": "2021-01-12T19:06:48.868183",
     "status": "completed"
    },
    "tags": []
   },
   "source": [
    "# 2. Dataset de entrenamiento / Dataset de testing"
   ]
  },
  {
   "cell_type": "code",
   "execution_count": 2,
   "metadata": {
    "_cell_guid": "79c7e3d0-c299-4dcb-8224-4455121ee9b0",
    "_uuid": "d629ff2d2480ee46fbb7e2d37f6b5fab8052498a",
    "execution": {
     "iopub.execute_input": "2021-01-12T19:06:48.964113Z",
     "iopub.status.busy": "2021-01-12T19:06:48.963291Z",
     "iopub.status.idle": "2021-01-12T19:06:54.944314Z",
     "shell.execute_reply": "2021-01-12T19:06:54.943775Z"
    },
    "papermill": {
     "duration": 6.009956,
     "end_time": "2021-01-12T19:06:54.944414",
     "exception": false,
     "start_time": "2021-01-12T19:06:48.934458",
     "status": "completed"
    },
    "tags": []
   },
   "outputs": [
    {
     "name": "stdout",
     "output_type": "stream",
     "text": [
      "Parse progress: |█████████████████████████████████████████████████████████| 100%\n"
     ]
    },
    {
     "data": {
      "text/html": [
       "<table>\n",
       "<thead>\n",
       "<tr><th style=\"text-align: right;\">  id</th><th style=\"text-align: right;\">   cont1</th><th style=\"text-align: right;\">   cont2</th><th style=\"text-align: right;\">   cont3</th><th style=\"text-align: right;\">   cont4</th><th style=\"text-align: right;\">   cont5</th><th style=\"text-align: right;\">   cont6</th><th style=\"text-align: right;\">   cont7</th><th style=\"text-align: right;\">   cont8</th><th style=\"text-align: right;\">   cont9</th><th style=\"text-align: right;\">  cont10</th><th style=\"text-align: right;\">  cont11</th><th style=\"text-align: right;\">  cont12</th><th style=\"text-align: right;\">  cont13</th><th style=\"text-align: right;\">  cont14</th><th style=\"text-align: right;\">  target</th></tr>\n",
       "</thead>\n",
       "<tbody>\n",
       "<tr><td style=\"text-align: right;\">   1</td><td style=\"text-align: right;\">0.67039 </td><td style=\"text-align: right;\">0.8113  </td><td style=\"text-align: right;\">0.643968</td><td style=\"text-align: right;\">0.291791</td><td style=\"text-align: right;\">0.284117</td><td style=\"text-align: right;\">0.855953</td><td style=\"text-align: right;\">0.8907  </td><td style=\"text-align: right;\">0.285542</td><td style=\"text-align: right;\">0.558245</td><td style=\"text-align: right;\">0.779418</td><td style=\"text-align: right;\">0.921832</td><td style=\"text-align: right;\">0.866772</td><td style=\"text-align: right;\">0.878733</td><td style=\"text-align: right;\">0.305411</td><td style=\"text-align: right;\"> 7.24304</td></tr>\n",
       "<tr><td style=\"text-align: right;\">   3</td><td style=\"text-align: right;\">0.388053</td><td style=\"text-align: right;\">0.621104</td><td style=\"text-align: right;\">0.686102</td><td style=\"text-align: right;\">0.501149</td><td style=\"text-align: right;\">0.64379 </td><td style=\"text-align: right;\">0.449805</td><td style=\"text-align: right;\">0.510824</td><td style=\"text-align: right;\">0.580748</td><td style=\"text-align: right;\">0.418335</td><td style=\"text-align: right;\">0.432632</td><td style=\"text-align: right;\">0.439872</td><td style=\"text-align: right;\">0.434971</td><td style=\"text-align: right;\">0.369957</td><td style=\"text-align: right;\">0.369484</td><td style=\"text-align: right;\"> 8.20333</td></tr>\n",
       "<tr><td style=\"text-align: right;\">   4</td><td style=\"text-align: right;\">0.83495 </td><td style=\"text-align: right;\">0.227436</td><td style=\"text-align: right;\">0.301584</td><td style=\"text-align: right;\">0.293408</td><td style=\"text-align: right;\">0.606839</td><td style=\"text-align: right;\">0.829175</td><td style=\"text-align: right;\">0.506143</td><td style=\"text-align: right;\">0.558771</td><td style=\"text-align: right;\">0.587603</td><td style=\"text-align: right;\">0.823312</td><td style=\"text-align: right;\">0.567007</td><td style=\"text-align: right;\">0.677708</td><td style=\"text-align: right;\">0.882938</td><td style=\"text-align: right;\">0.303047</td><td style=\"text-align: right;\"> 7.77609</td></tr>\n",
       "<tr><td style=\"text-align: right;\">   5</td><td style=\"text-align: right;\">0.820708</td><td style=\"text-align: right;\">0.160155</td><td style=\"text-align: right;\">0.546887</td><td style=\"text-align: right;\">0.726104</td><td style=\"text-align: right;\">0.282444</td><td style=\"text-align: right;\">0.785108</td><td style=\"text-align: right;\">0.752758</td><td style=\"text-align: right;\">0.823267</td><td style=\"text-align: right;\">0.574466</td><td style=\"text-align: right;\">0.580843</td><td style=\"text-align: right;\">0.769594</td><td style=\"text-align: right;\">0.818143</td><td style=\"text-align: right;\">0.914281</td><td style=\"text-align: right;\">0.279528</td><td style=\"text-align: right;\"> 6.95772</td></tr>\n",
       "<tr><td style=\"text-align: right;\">   8</td><td style=\"text-align: right;\">0.935278</td><td style=\"text-align: right;\">0.421235</td><td style=\"text-align: right;\">0.303801</td><td style=\"text-align: right;\">0.880214</td><td style=\"text-align: right;\">0.66561 </td><td style=\"text-align: right;\">0.830131</td><td style=\"text-align: right;\">0.487113</td><td style=\"text-align: right;\">0.604157</td><td style=\"text-align: right;\">0.874658</td><td style=\"text-align: right;\">0.863427</td><td style=\"text-align: right;\">0.983575</td><td style=\"text-align: right;\">0.900464</td><td style=\"text-align: right;\">0.935918</td><td style=\"text-align: right;\">0.435772</td><td style=\"text-align: right;\"> 7.95105</td></tr>\n",
       "<tr><td style=\"text-align: right;\">   9</td><td style=\"text-align: right;\">0.352623</td><td style=\"text-align: right;\">0.258867</td><td style=\"text-align: right;\">0.327373</td><td style=\"text-align: right;\">0.802627</td><td style=\"text-align: right;\">0.284219</td><td style=\"text-align: right;\">0.296886</td><td style=\"text-align: right;\">0.209743</td><td style=\"text-align: right;\">0.27371 </td><td style=\"text-align: right;\">0.308018</td><td style=\"text-align: right;\">0.235851</td><td style=\"text-align: right;\">0.27876 </td><td style=\"text-align: right;\">0.251406</td><td style=\"text-align: right;\">0.339135</td><td style=\"text-align: right;\">0.293129</td><td style=\"text-align: right;\"> 7.34687</td></tr>\n",
       "<tr><td style=\"text-align: right;\">  11</td><td style=\"text-align: right;\">0.259096</td><td style=\"text-align: right;\">0.803934</td><td style=\"text-align: right;\">0.5809  </td><td style=\"text-align: right;\">0.322884</td><td style=\"text-align: right;\">0.984705</td><td style=\"text-align: right;\">0.378247</td><td style=\"text-align: right;\">0.432821</td><td style=\"text-align: right;\">0.562059</td><td style=\"text-align: right;\">0.290965</td><td style=\"text-align: right;\">0.316543</td><td style=\"text-align: right;\">0.219192</td><td style=\"text-align: right;\">0.326977</td><td style=\"text-align: right;\">0.458653</td><td style=\"text-align: right;\">0.2443  </td><td style=\"text-align: right;\"> 8.61624</td></tr>\n",
       "<tr><td style=\"text-align: right;\">  12</td><td style=\"text-align: right;\">0.48161 </td><td style=\"text-align: right;\">0.805446</td><td style=\"text-align: right;\">0.235836</td><td style=\"text-align: right;\">0.365011</td><td style=\"text-align: right;\">0.734725</td><td style=\"text-align: right;\">0.404825</td><td style=\"text-align: right;\">0.465061</td><td style=\"text-align: right;\">0.578794</td><td style=\"text-align: right;\">0.418807</td><td style=\"text-align: right;\">0.451958</td><td style=\"text-align: right;\">0.45872 </td><td style=\"text-align: right;\">0.586586</td><td style=\"text-align: right;\">0.321026</td><td style=\"text-align: right;\">0.834694</td><td style=\"text-align: right;\"> 6.8339 </td></tr>\n",
       "<tr><td style=\"text-align: right;\">  13</td><td style=\"text-align: right;\">0.66792 </td><td style=\"text-align: right;\">0.776422</td><td style=\"text-align: right;\">0.255154</td><td style=\"text-align: right;\">0.869598</td><td style=\"text-align: right;\">0.678067</td><td style=\"text-align: right;\">0.475274</td><td style=\"text-align: right;\">0.49329 </td><td style=\"text-align: right;\">0.638779</td><td style=\"text-align: right;\">0.491023</td><td style=\"text-align: right;\">0.617451</td><td style=\"text-align: right;\">0.413352</td><td style=\"text-align: right;\">0.485558</td><td style=\"text-align: right;\">0.474055</td><td style=\"text-align: right;\">0.608374</td><td style=\"text-align: right;\"> 8.54079</td></tr>\n",
       "<tr><td style=\"text-align: right;\">  15</td><td style=\"text-align: right;\">0.937751</td><td style=\"text-align: right;\">0.236482</td><td style=\"text-align: right;\">0.216445</td><td style=\"text-align: right;\">0.476463</td><td style=\"text-align: right;\">0.283642</td><td style=\"text-align: right;\">0.456763</td><td style=\"text-align: right;\">0.316416</td><td style=\"text-align: right;\">0.785602</td><td style=\"text-align: right;\">0.695845</td><td style=\"text-align: right;\">0.370941</td><td style=\"text-align: right;\">0.436835</td><td style=\"text-align: right;\">0.826278</td><td style=\"text-align: right;\">0.856748</td><td style=\"text-align: right;\">0.418593</td><td style=\"text-align: right;\"> 7.70105</td></tr>\n",
       "</tbody>\n",
       "</table>"
      ]
     },
     "metadata": {},
     "output_type": "display_data"
    },
    {
     "data": {
      "text/plain": []
     },
     "execution_count": 2,
     "metadata": {},
     "output_type": "execute_result"
    }
   ],
   "source": [
    "#Dataset con los datos de entrenamiento\n",
    "\n",
    "train = h2o.import_file('../input/tabular-playground-series-jan-2021/train.csv')\n",
    "train.head()"
   ]
  },
  {
   "cell_type": "code",
   "execution_count": 3,
   "metadata": {
    "execution": {
     "iopub.execute_input": "2021-01-12T19:06:55.024765Z",
     "iopub.status.busy": "2021-01-12T19:06:55.024035Z",
     "iopub.status.idle": "2021-01-12T19:06:55.027670Z",
     "shell.execute_reply": "2021-01-12T19:06:55.027243Z"
    },
    "papermill": {
     "duration": 0.045136,
     "end_time": "2021-01-12T19:06:55.027761",
     "exception": false,
     "start_time": "2021-01-12T19:06:54.982625",
     "status": "completed"
    },
    "tags": []
   },
   "outputs": [
    {
     "data": {
      "text/plain": [
       "(300000, 16)"
      ]
     },
     "execution_count": 3,
     "metadata": {},
     "output_type": "execute_result"
    }
   ],
   "source": [
    "train.shape"
   ]
  },
  {
   "cell_type": "code",
   "execution_count": 4,
   "metadata": {
    "execution": {
     "iopub.execute_input": "2021-01-12T19:06:55.110315Z",
     "iopub.status.busy": "2021-01-12T19:06:55.109410Z",
     "iopub.status.idle": "2021-01-12T19:06:57.629371Z",
     "shell.execute_reply": "2021-01-12T19:06:57.630462Z"
    },
    "papermill": {
     "duration": 2.564322,
     "end_time": "2021-01-12T19:06:57.630643",
     "exception": false,
     "start_time": "2021-01-12T19:06:55.066321",
     "status": "completed"
    },
    "tags": []
   },
   "outputs": [
    {
     "name": "stdout",
     "output_type": "stream",
     "text": [
      "Parse progress: |█████████████████████████████████████████████████████████| 100%\n"
     ]
    },
    {
     "data": {
      "text/html": [
       "<table>\n",
       "<thead>\n",
       "<tr><th style=\"text-align: right;\">  id</th><th style=\"text-align: right;\">   cont1</th><th style=\"text-align: right;\">   cont2</th><th style=\"text-align: right;\">   cont3</th><th style=\"text-align: right;\">   cont4</th><th style=\"text-align: right;\">   cont5</th><th style=\"text-align: right;\">   cont6</th><th style=\"text-align: right;\">   cont7</th><th style=\"text-align: right;\">   cont8</th><th style=\"text-align: right;\">   cont9</th><th style=\"text-align: right;\">  cont10</th><th style=\"text-align: right;\">  cont11</th><th style=\"text-align: right;\">  cont12</th><th style=\"text-align: right;\">  cont13</th><th style=\"text-align: right;\">  cont14</th></tr>\n",
       "</thead>\n",
       "<tbody>\n",
       "<tr><td style=\"text-align: right;\">   0</td><td style=\"text-align: right;\">0.3536  </td><td style=\"text-align: right;\">0.73878 </td><td style=\"text-align: right;\">0.600939</td><td style=\"text-align: right;\">0.293377</td><td style=\"text-align: right;\">0.285691</td><td style=\"text-align: right;\">0.458006</td><td style=\"text-align: right;\">0.620704</td><td style=\"text-align: right;\">0.422249</td><td style=\"text-align: right;\">0.369203</td><td style=\"text-align: right;\">0.435727</td><td style=\"text-align: right;\">0.55054 </td><td style=\"text-align: right;\">0.699134</td><td style=\"text-align: right;\">0.286864</td><td style=\"text-align: right;\">0.364515</td></tr>\n",
       "<tr><td style=\"text-align: right;\">   2</td><td style=\"text-align: right;\">0.907222</td><td style=\"text-align: right;\">0.189756</td><td style=\"text-align: right;\">0.215531</td><td style=\"text-align: right;\">0.869915</td><td style=\"text-align: right;\">0.301333</td><td style=\"text-align: right;\">0.528958</td><td style=\"text-align: right;\">0.390351</td><td style=\"text-align: right;\">0.521112</td><td style=\"text-align: right;\">0.794779</td><td style=\"text-align: right;\">0.79858 </td><td style=\"text-align: right;\">0.446475</td><td style=\"text-align: right;\">0.449037</td><td style=\"text-align: right;\">0.916964</td><td style=\"text-align: right;\">0.513002</td></tr>\n",
       "<tr><td style=\"text-align: right;\">   6</td><td style=\"text-align: right;\">0.179287</td><td style=\"text-align: right;\">0.355353</td><td style=\"text-align: right;\">0.623972</td><td style=\"text-align: right;\">0.437812</td><td style=\"text-align: right;\">0.282476</td><td style=\"text-align: right;\">0.320826</td><td style=\"text-align: right;\">0.386789</td><td style=\"text-align: right;\">0.776422</td><td style=\"text-align: right;\">0.222268</td><td style=\"text-align: right;\">0.229102</td><td style=\"text-align: right;\">0.211913</td><td style=\"text-align: right;\">0.222651</td><td style=\"text-align: right;\">0.327164</td><td style=\"text-align: right;\">0.827941</td></tr>\n",
       "<tr><td style=\"text-align: right;\">   7</td><td style=\"text-align: right;\">0.359385</td><td style=\"text-align: right;\">0.181049</td><td style=\"text-align: right;\">0.551368</td><td style=\"text-align: right;\">0.206386</td><td style=\"text-align: right;\">0.280763</td><td style=\"text-align: right;\">0.482076</td><td style=\"text-align: right;\">0.506677</td><td style=\"text-align: right;\">0.362793</td><td style=\"text-align: right;\">0.379737</td><td style=\"text-align: right;\">0.345686</td><td style=\"text-align: right;\">0.445276</td><td style=\"text-align: right;\">0.518485</td><td style=\"text-align: right;\">0.299028</td><td style=\"text-align: right;\">0.598166</td></tr>\n",
       "<tr><td style=\"text-align: right;\">  10</td><td style=\"text-align: right;\">0.335791</td><td style=\"text-align: right;\">0.682607</td><td style=\"text-align: right;\">0.676481</td><td style=\"text-align: right;\">0.219465</td><td style=\"text-align: right;\">0.282861</td><td style=\"text-align: right;\">0.581721</td><td style=\"text-align: right;\">0.748639</td><td style=\"text-align: right;\">0.350158</td><td style=\"text-align: right;\">0.448915</td><td style=\"text-align: right;\">0.506878</td><td style=\"text-align: right;\">0.817721</td><td style=\"text-align: right;\">0.805895</td><td style=\"text-align: right;\">0.790591</td><td style=\"text-align: right;\">0.249275</td></tr>\n",
       "<tr><td style=\"text-align: right;\">  14</td><td style=\"text-align: right;\">0.256414</td><td style=\"text-align: right;\">0.621835</td><td style=\"text-align: right;\">0.959441</td><td style=\"text-align: right;\">0.913052</td><td style=\"text-align: right;\">0.387511</td><td style=\"text-align: right;\">0.31462 </td><td style=\"text-align: right;\">0.322014</td><td style=\"text-align: right;\">0.614673</td><td style=\"text-align: right;\">0.292548</td><td style=\"text-align: right;\">0.899578</td><td style=\"text-align: right;\">0.278104</td><td style=\"text-align: right;\">0.274086</td><td style=\"text-align: right;\">0.418178</td><td style=\"text-align: right;\">0.715106</td></tr>\n",
       "<tr><td style=\"text-align: right;\">  16</td><td style=\"text-align: right;\">0.485888</td><td style=\"text-align: right;\">0.359113</td><td style=\"text-align: right;\">0.613006</td><td style=\"text-align: right;\">0.257908</td><td style=\"text-align: right;\">0.283429</td><td style=\"text-align: right;\">0.646103</td><td style=\"text-align: right;\">0.963301</td><td style=\"text-align: right;\">0.311508</td><td style=\"text-align: right;\">0.58126 </td><td style=\"text-align: right;\">0.638479</td><td style=\"text-align: right;\">0.840254</td><td style=\"text-align: right;\">0.854393</td><td style=\"text-align: right;\">0.893814</td><td style=\"text-align: right;\">0.269365</td></tr>\n",
       "<tr><td style=\"text-align: right;\">  17</td><td style=\"text-align: right;\">0.673931</td><td style=\"text-align: right;\">0.734818</td><td style=\"text-align: right;\">0.361756</td><td style=\"text-align: right;\">0.567235</td><td style=\"text-align: right;\">0.284732</td><td style=\"text-align: right;\">0.453174</td><td style=\"text-align: right;\">0.515395</td><td style=\"text-align: right;\">0.789382</td><td style=\"text-align: right;\">0.714804</td><td style=\"text-align: right;\">0.265037</td><td style=\"text-align: right;\">0.323776</td><td style=\"text-align: right;\">0.507847</td><td style=\"text-align: right;\">0.539327</td><td style=\"text-align: right;\">0.849788</td></tr>\n",
       "<tr><td style=\"text-align: right;\">  18</td><td style=\"text-align: right;\">0.926054</td><td style=\"text-align: right;\">0.619843</td><td style=\"text-align: right;\">0.356893</td><td style=\"text-align: right;\">0.868551</td><td style=\"text-align: right;\">0.284436</td><td style=\"text-align: right;\">0.865728</td><td style=\"text-align: right;\">0.456673</td><td style=\"text-align: right;\">0.729383</td><td style=\"text-align: right;\">0.73935 </td><td style=\"text-align: right;\">0.867766</td><td style=\"text-align: right;\">0.906833</td><td style=\"text-align: right;\">0.963105</td><td style=\"text-align: right;\">0.901933</td><td style=\"text-align: right;\">0.826835</td></tr>\n",
       "<tr><td style=\"text-align: right;\">  19</td><td style=\"text-align: right;\">0.497196</td><td style=\"text-align: right;\">0.619562</td><td style=\"text-align: right;\">0.623283</td><td style=\"text-align: right;\">0.323464</td><td style=\"text-align: right;\">0.5031  </td><td style=\"text-align: right;\">0.457458</td><td style=\"text-align: right;\">0.447466</td><td style=\"text-align: right;\">0.612733</td><td style=\"text-align: right;\">0.40986 </td><td style=\"text-align: right;\">0.438677</td><td style=\"text-align: right;\">0.330754</td><td style=\"text-align: right;\">0.348405</td><td style=\"text-align: right;\">0.355242</td><td style=\"text-align: right;\">0.259408</td></tr>\n",
       "</tbody>\n",
       "</table>"
      ]
     },
     "metadata": {},
     "output_type": "display_data"
    },
    {
     "data": {
      "text/plain": []
     },
     "execution_count": 4,
     "metadata": {},
     "output_type": "execute_result"
    }
   ],
   "source": [
    "#Dataset con los datos de testing\n",
    "\n",
    "test = h2o.import_file('../input/tabular-playground-series-jan-2021/test.csv')\n",
    "test.head()"
   ]
  },
  {
   "cell_type": "code",
   "execution_count": 5,
   "metadata": {
    "execution": {
     "iopub.execute_input": "2021-01-12T19:06:57.726737Z",
     "iopub.status.busy": "2021-01-12T19:06:57.725876Z",
     "iopub.status.idle": "2021-01-12T19:06:57.729878Z",
     "shell.execute_reply": "2021-01-12T19:06:57.729467Z"
    },
    "papermill": {
     "duration": 0.05156,
     "end_time": "2021-01-12T19:06:57.729968",
     "exception": false,
     "start_time": "2021-01-12T19:06:57.678408",
     "status": "completed"
    },
    "tags": []
   },
   "outputs": [
    {
     "data": {
      "text/plain": [
       "(200000, 15)"
      ]
     },
     "execution_count": 5,
     "metadata": {},
     "output_type": "execute_result"
    }
   ],
   "source": [
    "test.shape"
   ]
  },
  {
   "cell_type": "code",
   "execution_count": 6,
   "metadata": {
    "execution": {
     "iopub.execute_input": "2021-01-12T19:06:57.825084Z",
     "iopub.status.busy": "2021-01-12T19:06:57.824262Z",
     "iopub.status.idle": "2021-01-12T19:06:58.641636Z",
     "shell.execute_reply": "2021-01-12T19:06:58.642728Z"
    },
    "papermill": {
     "duration": 0.868279,
     "end_time": "2021-01-12T19:06:58.642922",
     "exception": false,
     "start_time": "2021-01-12T19:06:57.774643",
     "status": "completed"
    },
    "tags": []
   },
   "outputs": [
    {
     "name": "stdout",
     "output_type": "stream",
     "text": [
      "Parse progress: |█████████████████████████████████████████████████████████| 100%\n"
     ]
    },
    {
     "data": {
      "text/html": [
       "<table>\n",
       "<thead>\n",
       "<tr><th style=\"text-align: right;\">  id</th><th style=\"text-align: right;\">  target</th></tr>\n",
       "</thead>\n",
       "<tbody>\n",
       "<tr><td style=\"text-align: right;\">   0</td><td style=\"text-align: right;\">     0.5</td></tr>\n",
       "<tr><td style=\"text-align: right;\">   2</td><td style=\"text-align: right;\">     0.5</td></tr>\n",
       "<tr><td style=\"text-align: right;\">   6</td><td style=\"text-align: right;\">     0.5</td></tr>\n",
       "<tr><td style=\"text-align: right;\">   7</td><td style=\"text-align: right;\">     0.5</td></tr>\n",
       "<tr><td style=\"text-align: right;\">  10</td><td style=\"text-align: right;\">     0.5</td></tr>\n",
       "<tr><td style=\"text-align: right;\">  14</td><td style=\"text-align: right;\">     0.5</td></tr>\n",
       "<tr><td style=\"text-align: right;\">  16</td><td style=\"text-align: right;\">     0.5</td></tr>\n",
       "<tr><td style=\"text-align: right;\">  17</td><td style=\"text-align: right;\">     0.5</td></tr>\n",
       "<tr><td style=\"text-align: right;\">  18</td><td style=\"text-align: right;\">     0.5</td></tr>\n",
       "<tr><td style=\"text-align: right;\">  19</td><td style=\"text-align: right;\">     0.5</td></tr>\n",
       "</tbody>\n",
       "</table>"
      ]
     },
     "metadata": {},
     "output_type": "display_data"
    },
    {
     "data": {
      "text/plain": []
     },
     "execution_count": 6,
     "metadata": {},
     "output_type": "execute_result"
    }
   ],
   "source": [
    "#Dataset para realizar el submit\n",
    "\n",
    "submission = h2o.import_file('../input/tabular-playground-series-jan-2021/sample_submission.csv')\n",
    "submission.head()"
   ]
  },
  {
   "cell_type": "code",
   "execution_count": 7,
   "metadata": {
    "execution": {
     "iopub.execute_input": "2021-01-12T19:06:58.786619Z",
     "iopub.status.busy": "2021-01-12T19:06:58.785854Z",
     "iopub.status.idle": "2021-01-12T19:06:58.789527Z",
     "shell.execute_reply": "2021-01-12T19:06:58.789078Z"
    },
    "papermill": {
     "duration": 0.05334,
     "end_time": "2021-01-12T19:06:58.789626",
     "exception": false,
     "start_time": "2021-01-12T19:06:58.736286",
     "status": "completed"
    },
    "tags": []
   },
   "outputs": [
    {
     "data": {
      "text/plain": [
       "(200000, 2)"
      ]
     },
     "execution_count": 7,
     "metadata": {},
     "output_type": "execute_result"
    }
   ],
   "source": [
    "submission.shape"
   ]
  },
  {
   "cell_type": "markdown",
   "metadata": {
    "papermill": {
     "duration": 0.133446,
     "end_time": "2021-01-12T19:06:58.969022",
     "exception": false,
     "start_time": "2021-01-12T19:06:58.835576",
     "status": "completed"
    },
    "tags": []
   },
   "source": [
    "# 3. AutoML H2O"
   ]
  },
  {
   "cell_type": "code",
   "execution_count": 8,
   "metadata": {
    "execution": {
     "iopub.execute_input": "2021-01-12T19:06:59.299357Z",
     "iopub.status.busy": "2021-01-12T19:06:59.298625Z",
     "iopub.status.idle": "2021-01-12T19:06:59.408082Z",
     "shell.execute_reply": "2021-01-12T19:06:59.409434Z"
    },
    "papermill": {
     "duration": 0.266386,
     "end_time": "2021-01-12T19:06:59.409629",
     "exception": false,
     "start_time": "2021-01-12T19:06:59.143243",
     "status": "completed"
    },
    "tags": []
   },
   "outputs": [],
   "source": [
    "folds = 10\n",
    "\n",
    "model = H2OAutoML(max_runtime_secs=10800, stopping_metric = \"RMSE\",sort_metric=\"RMSE\",seed = 1, project_name = \"autoML\",nfolds = folds)"
   ]
  },
  {
   "cell_type": "code",
   "execution_count": 9,
   "metadata": {
    "execution": {
     "iopub.execute_input": "2021-01-12T19:06:59.723310Z",
     "iopub.status.busy": "2021-01-12T19:06:59.722453Z",
     "iopub.status.idle": "2021-01-12T19:06:59.724679Z",
     "shell.execute_reply": "2021-01-12T19:06:59.724020Z"
    },
    "papermill": {
     "duration": 0.157111,
     "end_time": "2021-01-12T19:06:59.724804",
     "exception": false,
     "start_time": "2021-01-12T19:06:59.567693",
     "status": "completed"
    },
    "tags": []
   },
   "outputs": [],
   "source": [
    "x = train[1:-1].columns\n",
    "y = \"target\""
   ]
  },
  {
   "cell_type": "code",
   "execution_count": 10,
   "metadata": {
    "execution": {
     "iopub.execute_input": "2021-01-12T19:07:00.072034Z",
     "iopub.status.busy": "2021-01-12T19:07:00.071191Z",
     "iopub.status.idle": "2021-01-12T21:52:49.893996Z",
     "shell.execute_reply": "2021-01-12T21:52:49.895199Z"
    },
    "papermill": {
     "duration": 9950.046873,
     "end_time": "2021-01-12T21:52:49.895393",
     "exception": false,
     "start_time": "2021-01-12T19:06:59.848520",
     "status": "completed"
    },
    "tags": []
   },
   "outputs": [
    {
     "name": "stdout",
     "output_type": "stream",
     "text": [
      "AutoML progress: |████████████████████████████████████████████████████████| 100%\n"
     ]
    }
   ],
   "source": [
    "model.train(x=x,y=y,training_frame = train)"
   ]
  },
  {
   "cell_type": "code",
   "execution_count": 11,
   "metadata": {
    "execution": {
     "iopub.execute_input": "2021-01-12T21:52:50.367384Z",
     "iopub.status.busy": "2021-01-12T21:52:50.366559Z",
     "iopub.status.idle": "2021-01-12T21:52:50.406518Z",
     "shell.execute_reply": "2021-01-12T21:52:50.407290Z"
    },
    "papermill": {
     "duration": 0.264942,
     "end_time": "2021-01-12T21:52:50.407484",
     "exception": false,
     "start_time": "2021-01-12T21:52:50.142542",
     "status": "completed"
    },
    "tags": []
   },
   "outputs": [
    {
     "data": {
      "text/html": [
       "<table>\n",
       "<thead>\n",
       "<tr><th>model_id                                      </th><th style=\"text-align: right;\">    rmse</th><th style=\"text-align: right;\">  mean_residual_deviance</th><th style=\"text-align: right;\">     mse</th><th style=\"text-align: right;\">     mae</th><th style=\"text-align: right;\">    rmsle</th></tr>\n",
       "</thead>\n",
       "<tbody>\n",
       "<tr><td>GBM_5_AutoML_20210112_190700                  </td><td style=\"text-align: right;\">0.701648</td><td style=\"text-align: right;\">                0.492309</td><td style=\"text-align: right;\">0.492309</td><td style=\"text-align: right;\">0.588243</td><td style=\"text-align: right;\">0.0797924</td></tr>\n",
       "<tr><td>GBM_grid__1_AutoML_20210112_190700_model_3    </td><td style=\"text-align: right;\">0.70169 </td><td style=\"text-align: right;\">                0.492368</td><td style=\"text-align: right;\">0.492368</td><td style=\"text-align: right;\">0.588545</td><td style=\"text-align: right;\">0.079795 </td></tr>\n",
       "<tr><td>GBM_grid__1_AutoML_20210112_190700_model_2    </td><td style=\"text-align: right;\">0.702089</td><td style=\"text-align: right;\">                0.492929</td><td style=\"text-align: right;\">0.492929</td><td style=\"text-align: right;\">0.589004</td><td style=\"text-align: right;\">0.0798399</td></tr>\n",
       "<tr><td>GBM_4_AutoML_20210112_190700                  </td><td style=\"text-align: right;\">0.702134</td><td style=\"text-align: right;\">                0.492993</td><td style=\"text-align: right;\">0.492993</td><td style=\"text-align: right;\">0.588601</td><td style=\"text-align: right;\">0.0798479</td></tr>\n",
       "<tr><td>GBM_3_AutoML_20210112_190700                  </td><td style=\"text-align: right;\">0.702228</td><td style=\"text-align: right;\">                0.493124</td><td style=\"text-align: right;\">0.493124</td><td style=\"text-align: right;\">0.589473</td><td style=\"text-align: right;\">0.079862 </td></tr>\n",
       "<tr><td>XGBoost_grid__1_AutoML_20210112_190700_model_5</td><td style=\"text-align: right;\">0.702888</td><td style=\"text-align: right;\">                0.494052</td><td style=\"text-align: right;\">0.494052</td><td style=\"text-align: right;\">0.589029</td><td style=\"text-align: right;\">0.0799212</td></tr>\n",
       "<tr><td>GBM_2_AutoML_20210112_190700                  </td><td style=\"text-align: right;\">0.70301 </td><td style=\"text-align: right;\">                0.494223</td><td style=\"text-align: right;\">0.494223</td><td style=\"text-align: right;\">0.59031 </td><td style=\"text-align: right;\">0.0799489</td></tr>\n",
       "<tr><td>XGBoost_3_AutoML_20210112_190700              </td><td style=\"text-align: right;\">0.703145</td><td style=\"text-align: right;\">                0.494413</td><td style=\"text-align: right;\">0.494413</td><td style=\"text-align: right;\">0.589159</td><td style=\"text-align: right;\">0.07995  </td></tr>\n",
       "<tr><td>GBM_1_AutoML_20210112_190700                  </td><td style=\"text-align: right;\">0.704162</td><td style=\"text-align: right;\">                0.495845</td><td style=\"text-align: right;\">0.495845</td><td style=\"text-align: right;\">0.591477</td><td style=\"text-align: right;\">0.0800746</td></tr>\n",
       "<tr><td>GBM_grid__1_AutoML_20210112_190700_model_5    </td><td style=\"text-align: right;\">0.704239</td><td style=\"text-align: right;\">                0.495952</td><td style=\"text-align: right;\">0.495952</td><td style=\"text-align: right;\">0.588127</td><td style=\"text-align: right;\">0.0800728</td></tr>\n",
       "</tbody>\n",
       "</table>"
      ]
     },
     "metadata": {},
     "output_type": "display_data"
    },
    {
     "data": {
      "text/plain": []
     },
     "execution_count": 11,
     "metadata": {},
     "output_type": "execute_result"
    }
   ],
   "source": [
    "resumen_leaderboard = model.leaderboard\n",
    "resumen_leaderboard"
   ]
  },
  {
   "cell_type": "code",
   "execution_count": 12,
   "metadata": {
    "execution": {
     "iopub.execute_input": "2021-01-12T21:52:50.857989Z",
     "iopub.status.busy": "2021-01-12T21:52:50.857173Z",
     "iopub.status.idle": "2021-01-12T21:52:51.225789Z",
     "shell.execute_reply": "2021-01-12T21:52:51.227143Z"
    },
    "papermill": {
     "duration": 0.590589,
     "end_time": "2021-01-12T21:52:51.227337",
     "exception": false,
     "start_time": "2021-01-12T21:52:50.636748",
     "status": "completed"
    },
    "tags": []
   },
   "outputs": [
    {
     "name": "stdout",
     "output_type": "stream",
     "text": [
      "Model Details\n",
      "=============\n",
      "H2OGradientBoostingEstimator :  Gradient Boosting Machine\n",
      "Model Key:  GBM_5_AutoML_20210112_190700\n",
      "\n",
      "\n",
      "Model Summary: \n"
     ]
    },
    {
     "data": {
      "text/html": [
       "<div>\n",
       "<style scoped>\n",
       "    .dataframe tbody tr th:only-of-type {\n",
       "        vertical-align: middle;\n",
       "    }\n",
       "\n",
       "    .dataframe tbody tr th {\n",
       "        vertical-align: top;\n",
       "    }\n",
       "\n",
       "    .dataframe thead th {\n",
       "        text-align: right;\n",
       "    }\n",
       "</style>\n",
       "<table border=\"1\" class=\"dataframe\">\n",
       "  <thead>\n",
       "    <tr style=\"text-align: right;\">\n",
       "      <th></th>\n",
       "      <th></th>\n",
       "      <th>number_of_trees</th>\n",
       "      <th>number_of_internal_trees</th>\n",
       "      <th>model_size_in_bytes</th>\n",
       "      <th>min_depth</th>\n",
       "      <th>max_depth</th>\n",
       "      <th>mean_depth</th>\n",
       "      <th>min_leaves</th>\n",
       "      <th>max_leaves</th>\n",
       "      <th>mean_leaves</th>\n",
       "    </tr>\n",
       "  </thead>\n",
       "  <tbody>\n",
       "    <tr>\n",
       "      <th>0</th>\n",
       "      <td></td>\n",
       "      <td>33.0</td>\n",
       "      <td>33.0</td>\n",
       "      <td>483877.0</td>\n",
       "      <td>15.0</td>\n",
       "      <td>15.0</td>\n",
       "      <td>15.0</td>\n",
       "      <td>787.0</td>\n",
       "      <td>1472.0</td>\n",
       "      <td>1163.2122</td>\n",
       "    </tr>\n",
       "  </tbody>\n",
       "</table>\n",
       "</div>"
      ],
      "text/plain": [
       "     number_of_trees  number_of_internal_trees  model_size_in_bytes  \\\n",
       "0               33.0                      33.0             483877.0   \n",
       "\n",
       "   min_depth  max_depth  mean_depth  min_leaves  max_leaves  mean_leaves  \n",
       "0       15.0       15.0        15.0       787.0      1472.0    1163.2122  "
      ]
     },
     "metadata": {},
     "output_type": "display_data"
    },
    {
     "name": "stdout",
     "output_type": "stream",
     "text": [
      "\n",
      "\n",
      "ModelMetricsRegression: gbm\n",
      "** Reported on train data. **\n",
      "\n",
      "MSE: 0.4400576021788136\n",
      "RMSE: 0.6633683759260866\n",
      "MAE: 0.5562438161977132\n",
      "RMSLE: 0.07550849319383844\n",
      "Mean Residual Deviance: 0.4400576021788136\n",
      "\n",
      "ModelMetricsRegression: gbm\n",
      "** Reported on cross-validation data. **\n",
      "\n",
      "MSE: 0.4923093648231128\n",
      "RMSE: 0.701647607295224\n",
      "MAE: 0.5882432293145161\n",
      "RMSLE: 0.0797923710952454\n",
      "Mean Residual Deviance: 0.4923093648231128\n",
      "\n",
      "Cross-Validation Metrics Summary: \n"
     ]
    },
    {
     "data": {
      "text/html": [
       "<div>\n",
       "<style scoped>\n",
       "    .dataframe tbody tr th:only-of-type {\n",
       "        vertical-align: middle;\n",
       "    }\n",
       "\n",
       "    .dataframe tbody tr th {\n",
       "        vertical-align: top;\n",
       "    }\n",
       "\n",
       "    .dataframe thead th {\n",
       "        text-align: right;\n",
       "    }\n",
       "</style>\n",
       "<table border=\"1\" class=\"dataframe\">\n",
       "  <thead>\n",
       "    <tr style=\"text-align: right;\">\n",
       "      <th></th>\n",
       "      <th></th>\n",
       "      <th>mean</th>\n",
       "      <th>sd</th>\n",
       "      <th>cv_1_valid</th>\n",
       "      <th>cv_2_valid</th>\n",
       "      <th>cv_3_valid</th>\n",
       "      <th>cv_4_valid</th>\n",
       "      <th>cv_5_valid</th>\n",
       "      <th>cv_6_valid</th>\n",
       "      <th>cv_7_valid</th>\n",
       "      <th>cv_8_valid</th>\n",
       "      <th>cv_9_valid</th>\n",
       "      <th>cv_10_valid</th>\n",
       "    </tr>\n",
       "  </thead>\n",
       "  <tbody>\n",
       "    <tr>\n",
       "      <th>0</th>\n",
       "      <td>mae</td>\n",
       "      <td>0.58824325</td>\n",
       "      <td>0.0023599127</td>\n",
       "      <td>0.5878458</td>\n",
       "      <td>0.5873954</td>\n",
       "      <td>0.5859618</td>\n",
       "      <td>0.5861897</td>\n",
       "      <td>0.59283334</td>\n",
       "      <td>0.5893796</td>\n",
       "      <td>0.58579457</td>\n",
       "      <td>0.5866639</td>\n",
       "      <td>0.58933556</td>\n",
       "      <td>0.59103256</td>\n",
       "    </tr>\n",
       "    <tr>\n",
       "      <th>1</th>\n",
       "      <td>mean_residual_deviance</td>\n",
       "      <td>0.49230936</td>\n",
       "      <td>0.003719423</td>\n",
       "      <td>0.49168873</td>\n",
       "      <td>0.49121934</td>\n",
       "      <td>0.48991066</td>\n",
       "      <td>0.48853868</td>\n",
       "      <td>0.49955824</td>\n",
       "      <td>0.49451852</td>\n",
       "      <td>0.48767397</td>\n",
       "      <td>0.48967624</td>\n",
       "      <td>0.49447495</td>\n",
       "      <td>0.49583432</td>\n",
       "    </tr>\n",
       "    <tr>\n",
       "      <th>2</th>\n",
       "      <td>mse</td>\n",
       "      <td>0.49230936</td>\n",
       "      <td>0.003719423</td>\n",
       "      <td>0.49168873</td>\n",
       "      <td>0.49121934</td>\n",
       "      <td>0.48991066</td>\n",
       "      <td>0.48853868</td>\n",
       "      <td>0.49955824</td>\n",
       "      <td>0.49451852</td>\n",
       "      <td>0.48767397</td>\n",
       "      <td>0.48967624</td>\n",
       "      <td>0.49447495</td>\n",
       "      <td>0.49583432</td>\n",
       "    </tr>\n",
       "    <tr>\n",
       "      <th>3</th>\n",
       "      <td>r2</td>\n",
       "      <td>0.08384802</td>\n",
       "      <td>0.0023131273</td>\n",
       "      <td>0.08782717</td>\n",
       "      <td>0.085767366</td>\n",
       "      <td>0.08235623</td>\n",
       "      <td>0.080462456</td>\n",
       "      <td>0.085367575</td>\n",
       "      <td>0.08198664</td>\n",
       "      <td>0.08167602</td>\n",
       "      <td>0.083921805</td>\n",
       "      <td>0.085870214</td>\n",
       "      <td>0.08324473</td>\n",
       "    </tr>\n",
       "    <tr>\n",
       "      <th>4</th>\n",
       "      <td>residual_deviance</td>\n",
       "      <td>0.49230936</td>\n",
       "      <td>0.003719423</td>\n",
       "      <td>0.49168873</td>\n",
       "      <td>0.49121934</td>\n",
       "      <td>0.48991066</td>\n",
       "      <td>0.48853868</td>\n",
       "      <td>0.49955824</td>\n",
       "      <td>0.49451852</td>\n",
       "      <td>0.48767397</td>\n",
       "      <td>0.48967624</td>\n",
       "      <td>0.49447495</td>\n",
       "      <td>0.49583432</td>\n",
       "    </tr>\n",
       "    <tr>\n",
       "      <th>5</th>\n",
       "      <td>rmse</td>\n",
       "      <td>0.7016431</td>\n",
       "      <td>0.0026477391</td>\n",
       "      <td>0.7012052</td>\n",
       "      <td>0.7008704</td>\n",
       "      <td>0.69993615</td>\n",
       "      <td>0.6989554</td>\n",
       "      <td>0.7067943</td>\n",
       "      <td>0.7032201</td>\n",
       "      <td>0.69833654</td>\n",
       "      <td>0.6997687</td>\n",
       "      <td>0.70318913</td>\n",
       "      <td>0.704155</td>\n",
       "    </tr>\n",
       "    <tr>\n",
       "      <th>6</th>\n",
       "      <td>rmsle</td>\n",
       "      <td>0.07979068</td>\n",
       "      <td>5.4688257E-4</td>\n",
       "      <td>0.07961502</td>\n",
       "      <td>0.079641566</td>\n",
       "      <td>0.079620406</td>\n",
       "      <td>0.07932524</td>\n",
       "      <td>0.081224516</td>\n",
       "      <td>0.079858765</td>\n",
       "      <td>0.079401046</td>\n",
       "      <td>0.07943181</td>\n",
       "      <td>0.07977087</td>\n",
       "      <td>0.0800176</td>\n",
       "    </tr>\n",
       "  </tbody>\n",
       "</table>\n",
       "</div>"
      ],
      "text/plain": [
       "                                 mean            sd  cv_1_valid   cv_2_valid  \\\n",
       "0                     mae  0.58824325  0.0023599127   0.5878458    0.5873954   \n",
       "1  mean_residual_deviance  0.49230936   0.003719423  0.49168873   0.49121934   \n",
       "2                     mse  0.49230936   0.003719423  0.49168873   0.49121934   \n",
       "3                      r2  0.08384802  0.0023131273  0.08782717  0.085767366   \n",
       "4       residual_deviance  0.49230936   0.003719423  0.49168873   0.49121934   \n",
       "5                    rmse   0.7016431  0.0026477391   0.7012052    0.7008704   \n",
       "6                   rmsle  0.07979068  5.4688257E-4  0.07961502  0.079641566   \n",
       "\n",
       "    cv_3_valid   cv_4_valid   cv_5_valid   cv_6_valid   cv_7_valid  \\\n",
       "0    0.5859618    0.5861897   0.59283334    0.5893796   0.58579457   \n",
       "1   0.48991066   0.48853868   0.49955824   0.49451852   0.48767397   \n",
       "2   0.48991066   0.48853868   0.49955824   0.49451852   0.48767397   \n",
       "3   0.08235623  0.080462456  0.085367575   0.08198664   0.08167602   \n",
       "4   0.48991066   0.48853868   0.49955824   0.49451852   0.48767397   \n",
       "5   0.69993615    0.6989554    0.7067943    0.7032201   0.69833654   \n",
       "6  0.079620406   0.07932524  0.081224516  0.079858765  0.079401046   \n",
       "\n",
       "    cv_8_valid   cv_9_valid cv_10_valid  \n",
       "0    0.5866639   0.58933556  0.59103256  \n",
       "1   0.48967624   0.49447495  0.49583432  \n",
       "2   0.48967624   0.49447495  0.49583432  \n",
       "3  0.083921805  0.085870214  0.08324473  \n",
       "4   0.48967624   0.49447495  0.49583432  \n",
       "5    0.6997687   0.70318913    0.704155  \n",
       "6   0.07943181   0.07977087   0.0800176  "
      ]
     },
     "metadata": {},
     "output_type": "display_data"
    },
    {
     "name": "stdout",
     "output_type": "stream",
     "text": [
      "\n",
      "Scoring History: \n"
     ]
    },
    {
     "data": {
      "text/html": [
       "<div>\n",
       "<style scoped>\n",
       "    .dataframe tbody tr th:only-of-type {\n",
       "        vertical-align: middle;\n",
       "    }\n",
       "\n",
       "    .dataframe tbody tr th {\n",
       "        vertical-align: top;\n",
       "    }\n",
       "\n",
       "    .dataframe thead th {\n",
       "        text-align: right;\n",
       "    }\n",
       "</style>\n",
       "<table border=\"1\" class=\"dataframe\">\n",
       "  <thead>\n",
       "    <tr style=\"text-align: right;\">\n",
       "      <th></th>\n",
       "      <th></th>\n",
       "      <th>timestamp</th>\n",
       "      <th>duration</th>\n",
       "      <th>number_of_trees</th>\n",
       "      <th>training_rmse</th>\n",
       "      <th>training_mae</th>\n",
       "      <th>training_deviance</th>\n",
       "    </tr>\n",
       "  </thead>\n",
       "  <tbody>\n",
       "    <tr>\n",
       "      <th>0</th>\n",
       "      <td></td>\n",
       "      <td>2021-01-12 19:47:07</td>\n",
       "      <td>4 min 28.963 sec</td>\n",
       "      <td>0.0</td>\n",
       "      <td>0.733070</td>\n",
       "      <td>0.619374</td>\n",
       "      <td>0.537391</td>\n",
       "    </tr>\n",
       "    <tr>\n",
       "      <th>1</th>\n",
       "      <td></td>\n",
       "      <td>2021-01-12 19:47:11</td>\n",
       "      <td>4 min 32.493 sec</td>\n",
       "      <td>5.0</td>\n",
       "      <td>0.711341</td>\n",
       "      <td>0.601222</td>\n",
       "      <td>0.506006</td>\n",
       "    </tr>\n",
       "    <tr>\n",
       "      <th>2</th>\n",
       "      <td></td>\n",
       "      <td>2021-01-12 19:47:14</td>\n",
       "      <td>4 min 35.752 sec</td>\n",
       "      <td>10.0</td>\n",
       "      <td>0.697119</td>\n",
       "      <td>0.588317</td>\n",
       "      <td>0.485976</td>\n",
       "    </tr>\n",
       "    <tr>\n",
       "      <th>3</th>\n",
       "      <td></td>\n",
       "      <td>2021-01-12 19:47:17</td>\n",
       "      <td>4 min 38.546 sec</td>\n",
       "      <td>15.0</td>\n",
       "      <td>0.686836</td>\n",
       "      <td>0.578553</td>\n",
       "      <td>0.471744</td>\n",
       "    </tr>\n",
       "    <tr>\n",
       "      <th>4</th>\n",
       "      <td></td>\n",
       "      <td>2021-01-12 19:47:20</td>\n",
       "      <td>4 min 41.338 sec</td>\n",
       "      <td>20.0</td>\n",
       "      <td>0.678956</td>\n",
       "      <td>0.570948</td>\n",
       "      <td>0.460981</td>\n",
       "    </tr>\n",
       "    <tr>\n",
       "      <th>5</th>\n",
       "      <td></td>\n",
       "      <td>2021-01-12 19:47:23</td>\n",
       "      <td>4 min 44.128 sec</td>\n",
       "      <td>25.0</td>\n",
       "      <td>0.672088</td>\n",
       "      <td>0.564465</td>\n",
       "      <td>0.451703</td>\n",
       "    </tr>\n",
       "    <tr>\n",
       "      <th>6</th>\n",
       "      <td></td>\n",
       "      <td>2021-01-12 19:47:26</td>\n",
       "      <td>4 min 47.238 sec</td>\n",
       "      <td>30.0</td>\n",
       "      <td>0.666296</td>\n",
       "      <td>0.558968</td>\n",
       "      <td>0.443950</td>\n",
       "    </tr>\n",
       "    <tr>\n",
       "      <th>7</th>\n",
       "      <td></td>\n",
       "      <td>2021-01-12 19:47:27</td>\n",
       "      <td>4 min 48.858 sec</td>\n",
       "      <td>33.0</td>\n",
       "      <td>0.663368</td>\n",
       "      <td>0.556244</td>\n",
       "      <td>0.440058</td>\n",
       "    </tr>\n",
       "  </tbody>\n",
       "</table>\n",
       "</div>"
      ],
      "text/plain": [
       "               timestamp           duration  number_of_trees  training_rmse  \\\n",
       "0    2021-01-12 19:47:07   4 min 28.963 sec              0.0       0.733070   \n",
       "1    2021-01-12 19:47:11   4 min 32.493 sec              5.0       0.711341   \n",
       "2    2021-01-12 19:47:14   4 min 35.752 sec             10.0       0.697119   \n",
       "3    2021-01-12 19:47:17   4 min 38.546 sec             15.0       0.686836   \n",
       "4    2021-01-12 19:47:20   4 min 41.338 sec             20.0       0.678956   \n",
       "5    2021-01-12 19:47:23   4 min 44.128 sec             25.0       0.672088   \n",
       "6    2021-01-12 19:47:26   4 min 47.238 sec             30.0       0.666296   \n",
       "7    2021-01-12 19:47:27   4 min 48.858 sec             33.0       0.663368   \n",
       "\n",
       "   training_mae  training_deviance  \n",
       "0      0.619374           0.537391  \n",
       "1      0.601222           0.506006  \n",
       "2      0.588317           0.485976  \n",
       "3      0.578553           0.471744  \n",
       "4      0.570948           0.460981  \n",
       "5      0.564465           0.451703  \n",
       "6      0.558968           0.443950  \n",
       "7      0.556244           0.440058  "
      ]
     },
     "metadata": {},
     "output_type": "display_data"
    },
    {
     "name": "stdout",
     "output_type": "stream",
     "text": [
      "\n",
      "Variable Importances: \n"
     ]
    },
    {
     "data": {
      "text/html": [
       "<div>\n",
       "<style scoped>\n",
       "    .dataframe tbody tr th:only-of-type {\n",
       "        vertical-align: middle;\n",
       "    }\n",
       "\n",
       "    .dataframe tbody tr th {\n",
       "        vertical-align: top;\n",
       "    }\n",
       "\n",
       "    .dataframe thead th {\n",
       "        text-align: right;\n",
       "    }\n",
       "</style>\n",
       "<table border=\"1\" class=\"dataframe\">\n",
       "  <thead>\n",
       "    <tr style=\"text-align: right;\">\n",
       "      <th></th>\n",
       "      <th>variable</th>\n",
       "      <th>relative_importance</th>\n",
       "      <th>scaled_importance</th>\n",
       "      <th>percentage</th>\n",
       "    </tr>\n",
       "  </thead>\n",
       "  <tbody>\n",
       "    <tr>\n",
       "      <th>0</th>\n",
       "      <td>cont4</td>\n",
       "      <td>14447.833984</td>\n",
       "      <td>1.000000</td>\n",
       "      <td>0.102055</td>\n",
       "    </tr>\n",
       "    <tr>\n",
       "      <th>1</th>\n",
       "      <td>cont13</td>\n",
       "      <td>12527.454102</td>\n",
       "      <td>0.867082</td>\n",
       "      <td>0.088490</td>\n",
       "    </tr>\n",
       "    <tr>\n",
       "      <th>2</th>\n",
       "      <td>cont3</td>\n",
       "      <td>12349.002930</td>\n",
       "      <td>0.854730</td>\n",
       "      <td>0.087230</td>\n",
       "    </tr>\n",
       "    <tr>\n",
       "      <th>3</th>\n",
       "      <td>cont2</td>\n",
       "      <td>11408.712891</td>\n",
       "      <td>0.789649</td>\n",
       "      <td>0.080588</td>\n",
       "    </tr>\n",
       "    <tr>\n",
       "      <th>4</th>\n",
       "      <td>cont12</td>\n",
       "      <td>10547.873047</td>\n",
       "      <td>0.730066</td>\n",
       "      <td>0.074507</td>\n",
       "    </tr>\n",
       "    <tr>\n",
       "      <th>5</th>\n",
       "      <td>cont7</td>\n",
       "      <td>10228.794922</td>\n",
       "      <td>0.707981</td>\n",
       "      <td>0.072253</td>\n",
       "    </tr>\n",
       "    <tr>\n",
       "      <th>6</th>\n",
       "      <td>cont14</td>\n",
       "      <td>10013.279297</td>\n",
       "      <td>0.693064</td>\n",
       "      <td>0.070731</td>\n",
       "    </tr>\n",
       "    <tr>\n",
       "      <th>7</th>\n",
       "      <td>cont10</td>\n",
       "      <td>9964.435547</td>\n",
       "      <td>0.689684</td>\n",
       "      <td>0.070386</td>\n",
       "    </tr>\n",
       "    <tr>\n",
       "      <th>8</th>\n",
       "      <td>cont1</td>\n",
       "      <td>9376.439453</td>\n",
       "      <td>0.648986</td>\n",
       "      <td>0.066232</td>\n",
       "    </tr>\n",
       "    <tr>\n",
       "      <th>9</th>\n",
       "      <td>cont6</td>\n",
       "      <td>9213.111328</td>\n",
       "      <td>0.637681</td>\n",
       "      <td>0.065079</td>\n",
       "    </tr>\n",
       "    <tr>\n",
       "      <th>10</th>\n",
       "      <td>cont8</td>\n",
       "      <td>8268.367188</td>\n",
       "      <td>0.572291</td>\n",
       "      <td>0.058405</td>\n",
       "    </tr>\n",
       "    <tr>\n",
       "      <th>11</th>\n",
       "      <td>cont11</td>\n",
       "      <td>8200.279297</td>\n",
       "      <td>0.567578</td>\n",
       "      <td>0.057924</td>\n",
       "    </tr>\n",
       "    <tr>\n",
       "      <th>12</th>\n",
       "      <td>cont5</td>\n",
       "      <td>7524.680176</td>\n",
       "      <td>0.520817</td>\n",
       "      <td>0.053152</td>\n",
       "    </tr>\n",
       "    <tr>\n",
       "      <th>13</th>\n",
       "      <td>cont9</td>\n",
       "      <td>7498.839355</td>\n",
       "      <td>0.519029</td>\n",
       "      <td>0.052969</td>\n",
       "    </tr>\n",
       "  </tbody>\n",
       "</table>\n",
       "</div>"
      ],
      "text/plain": [
       "   variable  relative_importance  scaled_importance  percentage\n",
       "0     cont4         14447.833984           1.000000    0.102055\n",
       "1    cont13         12527.454102           0.867082    0.088490\n",
       "2     cont3         12349.002930           0.854730    0.087230\n",
       "3     cont2         11408.712891           0.789649    0.080588\n",
       "4    cont12         10547.873047           0.730066    0.074507\n",
       "5     cont7         10228.794922           0.707981    0.072253\n",
       "6    cont14         10013.279297           0.693064    0.070731\n",
       "7    cont10          9964.435547           0.689684    0.070386\n",
       "8     cont1          9376.439453           0.648986    0.066232\n",
       "9     cont6          9213.111328           0.637681    0.065079\n",
       "10    cont8          8268.367188           0.572291    0.058405\n",
       "11   cont11          8200.279297           0.567578    0.057924\n",
       "12    cont5          7524.680176           0.520817    0.053152\n",
       "13    cont9          7498.839355           0.519029    0.052969"
      ]
     },
     "metadata": {},
     "output_type": "display_data"
    },
    {
     "data": {
      "text/plain": []
     },
     "execution_count": 12,
     "metadata": {},
     "output_type": "execute_result"
    }
   ],
   "source": [
    "model.leader"
   ]
  },
  {
   "cell_type": "code",
   "execution_count": null,
   "metadata": {
    "papermill": {
     "duration": 0.196899,
     "end_time": "2021-01-12T21:52:51.594938",
     "exception": false,
     "start_time": "2021-01-12T21:52:51.398039",
     "status": "completed"
    },
    "tags": []
   },
   "outputs": [],
   "source": []
  },
  {
   "cell_type": "code",
   "execution_count": 13,
   "metadata": {
    "execution": {
     "iopub.execute_input": "2021-01-12T21:52:51.908613Z",
     "iopub.status.busy": "2021-01-12T21:52:51.903365Z",
     "iopub.status.idle": "2021-01-12T21:52:54.615424Z",
     "shell.execute_reply": "2021-01-12T21:52:54.616419Z"
    },
    "papermill": {
     "duration": 2.87753,
     "end_time": "2021-01-12T21:52:54.616621",
     "exception": false,
     "start_time": "2021-01-12T21:52:51.739091",
     "status": "completed"
    },
    "tags": []
   },
   "outputs": [
    {
     "name": "stdout",
     "output_type": "stream",
     "text": [
      "gbm prediction progress: |████████████████████████████████████████████████| 100%\n"
     ]
    },
    {
     "data": {
      "text/html": [
       "<table>\n",
       "<thead>\n",
       "<tr><th style=\"text-align: right;\">  predict</th></tr>\n",
       "</thead>\n",
       "<tbody>\n",
       "<tr><td style=\"text-align: right;\">  7.84362</td></tr>\n",
       "<tr><td style=\"text-align: right;\">  7.88197</td></tr>\n",
       "<tr><td style=\"text-align: right;\">  7.86651</td></tr>\n",
       "<tr><td style=\"text-align: right;\">  8.22786</td></tr>\n",
       "<tr><td style=\"text-align: right;\">  8.09289</td></tr>\n",
       "<tr><td style=\"text-align: right;\">  8.00631</td></tr>\n",
       "<tr><td style=\"text-align: right;\">  8.03086</td></tr>\n",
       "<tr><td style=\"text-align: right;\">  7.72062</td></tr>\n",
       "<tr><td style=\"text-align: right;\">  7.82639</td></tr>\n",
       "<tr><td style=\"text-align: right;\">  7.76747</td></tr>\n",
       "</tbody>\n",
       "</table>"
      ]
     },
     "metadata": {},
     "output_type": "display_data"
    },
    {
     "data": {
      "text/plain": []
     },
     "execution_count": 13,
     "metadata": {},
     "output_type": "execute_result"
    }
   ],
   "source": [
    "pred = model.leader.predict(test)\n",
    "pred.head()"
   ]
  },
  {
   "cell_type": "markdown",
   "metadata": {
    "papermill": {
     "duration": 0.137308,
     "end_time": "2021-01-12T21:52:54.895122",
     "exception": false,
     "start_time": "2021-01-12T21:52:54.757814",
     "status": "completed"
    },
    "tags": []
   },
   "source": [
    "# 5. Generacion del Submit"
   ]
  },
  {
   "cell_type": "code",
   "execution_count": 14,
   "metadata": {
    "execution": {
     "iopub.execute_input": "2021-01-12T21:52:55.074203Z",
     "iopub.status.busy": "2021-01-12T21:52:55.073279Z",
     "iopub.status.idle": "2021-01-12T21:52:55.128022Z",
     "shell.execute_reply": "2021-01-12T21:52:55.128713Z"
    },
    "papermill": {
     "duration": 0.148761,
     "end_time": "2021-01-12T21:52:55.128899",
     "exception": false,
     "start_time": "2021-01-12T21:52:54.980138",
     "status": "completed"
    },
    "tags": []
   },
   "outputs": [
    {
     "data": {
      "text/plain": [
       "(200000, 2)"
      ]
     },
     "execution_count": 14,
     "metadata": {},
     "output_type": "execute_result"
    }
   ],
   "source": [
    "submission = pd.read_csv('../input/tabular-playground-series-jan-2021/sample_submission.csv')\n",
    "submission.shape"
   ]
  },
  {
   "cell_type": "code",
   "execution_count": 15,
   "metadata": {
    "execution": {
     "iopub.execute_input": "2021-01-12T21:52:55.308326Z",
     "iopub.status.busy": "2021-01-12T21:52:55.307548Z",
     "iopub.status.idle": "2021-01-12T21:52:55.915278Z",
     "shell.execute_reply": "2021-01-12T21:52:55.914181Z"
    },
    "papermill": {
     "duration": 0.697138,
     "end_time": "2021-01-12T21:52:55.915397",
     "exception": false,
     "start_time": "2021-01-12T21:52:55.218259",
     "status": "completed"
    },
    "tags": []
   },
   "outputs": [],
   "source": [
    "submission['target'] = pred.as_data_frame().values"
   ]
  },
  {
   "cell_type": "code",
   "execution_count": 16,
   "metadata": {
    "execution": {
     "iopub.execute_input": "2021-01-12T21:52:56.093237Z",
     "iopub.status.busy": "2021-01-12T21:52:56.092703Z",
     "iopub.status.idle": "2021-01-12T21:52:56.998229Z",
     "shell.execute_reply": "2021-01-12T21:52:56.997521Z"
    },
    "papermill": {
     "duration": 0.995152,
     "end_time": "2021-01-12T21:52:56.998340",
     "exception": false,
     "start_time": "2021-01-12T21:52:56.003188",
     "status": "completed"
    },
    "tags": []
   },
   "outputs": [],
   "source": [
    "submission.to_csv('autoML.csv',index=False)"
   ]
  }
 ],
 "metadata": {
  "kernelspec": {
   "display_name": "Python 3",
   "language": "python",
   "name": "python3"
  },
  "language_info": {
   "codemirror_mode": {
    "name": "ipython",
    "version": 3
   },
   "file_extension": ".py",
   "mimetype": "text/x-python",
   "name": "python",
   "nbconvert_exporter": "python",
   "pygments_lexer": "ipython3",
   "version": "3.7.6"
  },
  "papermill": {
   "duration": 9984.88962,
   "end_time": "2021-01-12T21:52:57.190688",
   "environment_variables": {},
   "exception": null,
   "input_path": "__notebook__.ipynb",
   "output_path": "__notebook__.ipynb",
   "parameters": {},
   "start_time": "2021-01-12T19:06:32.301068",
   "version": "2.1.0"
  }
 },
 "nbformat": 4,
 "nbformat_minor": 4
}
