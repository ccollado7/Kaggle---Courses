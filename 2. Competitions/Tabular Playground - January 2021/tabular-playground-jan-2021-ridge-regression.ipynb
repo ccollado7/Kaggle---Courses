{
 "cells": [
  {
   "cell_type": "markdown",
   "metadata": {
    "papermill": {
     "duration": 0.019214,
     "end_time": "2021-01-06T15:50:39.435778",
     "exception": false,
     "start_time": "2021-01-06T15:50:39.416564",
     "status": "completed"
    },
    "tags": []
   },
   "source": [
    "# Tabular Playground - Jan 2021 - Ridge Regression"
   ]
  },
  {
   "cell_type": "markdown",
   "metadata": {
    "papermill": {
     "duration": 0.016936,
     "end_time": "2021-01-06T15:50:39.469345",
     "exception": false,
     "start_time": "2021-01-06T15:50:39.452409",
     "status": "completed"
    },
    "tags": []
   },
   "source": [
    "# 1. Librerias a utilizar"
   ]
  },
  {
   "cell_type": "code",
   "execution_count": 1,
   "metadata": {
    "_cell_guid": "b1076dfc-b9ad-4769-8c92-a6c4dae69d19",
    "_uuid": "8f2839f25d086af736a60e9eeb907d3b93b6e0e5",
    "execution": {
     "iopub.execute_input": "2021-01-06T15:50:39.506613Z",
     "iopub.status.busy": "2021-01-06T15:50:39.505813Z",
     "iopub.status.idle": "2021-01-06T15:50:40.872417Z",
     "shell.execute_reply": "2021-01-06T15:50:40.871679Z"
    },
    "papermill": {
     "duration": 1.388226,
     "end_time": "2021-01-06T15:50:40.872547",
     "exception": false,
     "start_time": "2021-01-06T15:50:39.484321",
     "status": "completed"
    },
    "tags": []
   },
   "outputs": [
    {
     "name": "stdout",
     "output_type": "stream",
     "text": [
      "/kaggle/input/tabular-playground-series-jan-2021/sample_submission.csv\n",
      "/kaggle/input/tabular-playground-series-jan-2021/train.csv\n",
      "/kaggle/input/tabular-playground-series-jan-2021/test.csv\n"
     ]
    }
   ],
   "source": [
    "import numpy as np\n",
    "import pandas as pd\n",
    "\n",
    "import os\n",
    "for dirname, _, filenames in os.walk('/kaggle/input'):\n",
    "    for filename in filenames:\n",
    "        print(os.path.join(dirname, filename))\n",
    "        \n",
    "import matplotlib.pyplot as plt\n",
    "import seaborn as sns\n",
    "\n",
    "from pathlib import Path\n",
    "input_path = Path('/kaggle/input/tabular-playground-series-jan-2021/')\n",
    "\n",
    "\n",
    "from sklearn.model_selection import train_test_split\n",
    "from sklearn.linear_model import Ridge\n",
    "from sklearn.metrics import mean_squared_error\n",
    "\n",
    "#Preprocesamiento\n",
    "from sklearn.preprocessing import StandardScaler\n",
    "\n",
    "#Pipeline\n",
    "from sklearn.pipeline import Pipeline\n",
    "\n",
    "#Tuning de Parametros\n",
    "from sklearn.model_selection import GridSearchCV"
   ]
  },
  {
   "cell_type": "markdown",
   "metadata": {
    "papermill": {
     "duration": 0.015119,
     "end_time": "2021-01-06T15:50:40.903832",
     "exception": false,
     "start_time": "2021-01-06T15:50:40.888713",
     "status": "completed"
    },
    "tags": []
   },
   "source": [
    "# 2. Dataset de entrenamiento / Dataset de testing"
   ]
  },
  {
   "cell_type": "code",
   "execution_count": 2,
   "metadata": {
    "_cell_guid": "79c7e3d0-c299-4dcb-8224-4455121ee9b0",
    "_uuid": "d629ff2d2480ee46fbb7e2d37f6b5fab8052498a",
    "execution": {
     "iopub.execute_input": "2021-01-06T15:50:40.944410Z",
     "iopub.status.busy": "2021-01-06T15:50:40.943728Z",
     "iopub.status.idle": "2021-01-06T15:50:42.936198Z",
     "shell.execute_reply": "2021-01-06T15:50:42.935672Z"
    },
    "papermill": {
     "duration": 2.016255,
     "end_time": "2021-01-06T15:50:42.936329",
     "exception": false,
     "start_time": "2021-01-06T15:50:40.920074",
     "status": "completed"
    },
    "tags": []
   },
   "outputs": [
    {
     "data": {
      "text/html": [
       "<div>\n",
       "<style scoped>\n",
       "    .dataframe tbody tr th:only-of-type {\n",
       "        vertical-align: middle;\n",
       "    }\n",
       "\n",
       "    .dataframe tbody tr th {\n",
       "        vertical-align: top;\n",
       "    }\n",
       "\n",
       "    .dataframe thead th {\n",
       "        text-align: right;\n",
       "    }\n",
       "</style>\n",
       "<table border=\"1\" class=\"dataframe\">\n",
       "  <thead>\n",
       "    <tr style=\"text-align: right;\">\n",
       "      <th></th>\n",
       "      <th>cont1</th>\n",
       "      <th>cont2</th>\n",
       "      <th>cont3</th>\n",
       "      <th>cont4</th>\n",
       "      <th>cont5</th>\n",
       "      <th>cont6</th>\n",
       "      <th>cont7</th>\n",
       "      <th>cont8</th>\n",
       "      <th>cont9</th>\n",
       "      <th>cont10</th>\n",
       "      <th>cont11</th>\n",
       "      <th>cont12</th>\n",
       "      <th>cont13</th>\n",
       "      <th>cont14</th>\n",
       "      <th>target</th>\n",
       "    </tr>\n",
       "    <tr>\n",
       "      <th>id</th>\n",
       "      <th></th>\n",
       "      <th></th>\n",
       "      <th></th>\n",
       "      <th></th>\n",
       "      <th></th>\n",
       "      <th></th>\n",
       "      <th></th>\n",
       "      <th></th>\n",
       "      <th></th>\n",
       "      <th></th>\n",
       "      <th></th>\n",
       "      <th></th>\n",
       "      <th></th>\n",
       "      <th></th>\n",
       "      <th></th>\n",
       "    </tr>\n",
       "  </thead>\n",
       "  <tbody>\n",
       "    <tr>\n",
       "      <th>1</th>\n",
       "      <td>0.670390</td>\n",
       "      <td>0.811300</td>\n",
       "      <td>0.643968</td>\n",
       "      <td>0.291791</td>\n",
       "      <td>0.284117</td>\n",
       "      <td>0.855953</td>\n",
       "      <td>0.890700</td>\n",
       "      <td>0.285542</td>\n",
       "      <td>0.558245</td>\n",
       "      <td>0.779418</td>\n",
       "      <td>0.921832</td>\n",
       "      <td>0.866772</td>\n",
       "      <td>0.878733</td>\n",
       "      <td>0.305411</td>\n",
       "      <td>7.243043</td>\n",
       "    </tr>\n",
       "    <tr>\n",
       "      <th>3</th>\n",
       "      <td>0.388053</td>\n",
       "      <td>0.621104</td>\n",
       "      <td>0.686102</td>\n",
       "      <td>0.501149</td>\n",
       "      <td>0.643790</td>\n",
       "      <td>0.449805</td>\n",
       "      <td>0.510824</td>\n",
       "      <td>0.580748</td>\n",
       "      <td>0.418335</td>\n",
       "      <td>0.432632</td>\n",
       "      <td>0.439872</td>\n",
       "      <td>0.434971</td>\n",
       "      <td>0.369957</td>\n",
       "      <td>0.369484</td>\n",
       "      <td>8.203331</td>\n",
       "    </tr>\n",
       "    <tr>\n",
       "      <th>4</th>\n",
       "      <td>0.834950</td>\n",
       "      <td>0.227436</td>\n",
       "      <td>0.301584</td>\n",
       "      <td>0.293408</td>\n",
       "      <td>0.606839</td>\n",
       "      <td>0.829175</td>\n",
       "      <td>0.506143</td>\n",
       "      <td>0.558771</td>\n",
       "      <td>0.587603</td>\n",
       "      <td>0.823312</td>\n",
       "      <td>0.567007</td>\n",
       "      <td>0.677708</td>\n",
       "      <td>0.882938</td>\n",
       "      <td>0.303047</td>\n",
       "      <td>7.776091</td>\n",
       "    </tr>\n",
       "    <tr>\n",
       "      <th>5</th>\n",
       "      <td>0.820708</td>\n",
       "      <td>0.160155</td>\n",
       "      <td>0.546887</td>\n",
       "      <td>0.726104</td>\n",
       "      <td>0.282444</td>\n",
       "      <td>0.785108</td>\n",
       "      <td>0.752758</td>\n",
       "      <td>0.823267</td>\n",
       "      <td>0.574466</td>\n",
       "      <td>0.580843</td>\n",
       "      <td>0.769594</td>\n",
       "      <td>0.818143</td>\n",
       "      <td>0.914281</td>\n",
       "      <td>0.279528</td>\n",
       "      <td>6.957716</td>\n",
       "    </tr>\n",
       "    <tr>\n",
       "      <th>8</th>\n",
       "      <td>0.935278</td>\n",
       "      <td>0.421235</td>\n",
       "      <td>0.303801</td>\n",
       "      <td>0.880214</td>\n",
       "      <td>0.665610</td>\n",
       "      <td>0.830131</td>\n",
       "      <td>0.487113</td>\n",
       "      <td>0.604157</td>\n",
       "      <td>0.874658</td>\n",
       "      <td>0.863427</td>\n",
       "      <td>0.983575</td>\n",
       "      <td>0.900464</td>\n",
       "      <td>0.935918</td>\n",
       "      <td>0.435772</td>\n",
       "      <td>7.951046</td>\n",
       "    </tr>\n",
       "  </tbody>\n",
       "</table>\n",
       "</div>"
      ],
      "text/plain": [
       "       cont1     cont2     cont3     cont4     cont5     cont6     cont7  \\\n",
       "id                                                                         \n",
       "1   0.670390  0.811300  0.643968  0.291791  0.284117  0.855953  0.890700   \n",
       "3   0.388053  0.621104  0.686102  0.501149  0.643790  0.449805  0.510824   \n",
       "4   0.834950  0.227436  0.301584  0.293408  0.606839  0.829175  0.506143   \n",
       "5   0.820708  0.160155  0.546887  0.726104  0.282444  0.785108  0.752758   \n",
       "8   0.935278  0.421235  0.303801  0.880214  0.665610  0.830131  0.487113   \n",
       "\n",
       "       cont8     cont9    cont10    cont11    cont12    cont13    cont14  \\\n",
       "id                                                                         \n",
       "1   0.285542  0.558245  0.779418  0.921832  0.866772  0.878733  0.305411   \n",
       "3   0.580748  0.418335  0.432632  0.439872  0.434971  0.369957  0.369484   \n",
       "4   0.558771  0.587603  0.823312  0.567007  0.677708  0.882938  0.303047   \n",
       "5   0.823267  0.574466  0.580843  0.769594  0.818143  0.914281  0.279528   \n",
       "8   0.604157  0.874658  0.863427  0.983575  0.900464  0.935918  0.435772   \n",
       "\n",
       "      target  \n",
       "id            \n",
       "1   7.243043  \n",
       "3   8.203331  \n",
       "4   7.776091  \n",
       "5   6.957716  \n",
       "8   7.951046  "
      ]
     },
     "execution_count": 2,
     "metadata": {},
     "output_type": "execute_result"
    }
   ],
   "source": [
    "#Dataset con los datos de entrenamiento\n",
    "\n",
    "train = pd.read_csv(input_path / 'train.csv', index_col='id')\n",
    "train.head()"
   ]
  },
  {
   "cell_type": "code",
   "execution_count": 3,
   "metadata": {
    "execution": {
     "iopub.execute_input": "2021-01-06T15:50:42.974334Z",
     "iopub.status.busy": "2021-01-06T15:50:42.973287Z",
     "iopub.status.idle": "2021-01-06T15:50:44.122633Z",
     "shell.execute_reply": "2021-01-06T15:50:44.121994Z"
    },
    "papermill": {
     "duration": 1.168992,
     "end_time": "2021-01-06T15:50:44.122762",
     "exception": false,
     "start_time": "2021-01-06T15:50:42.953770",
     "status": "completed"
    },
    "tags": []
   },
   "outputs": [
    {
     "data": {
      "text/html": [
       "<div>\n",
       "<style scoped>\n",
       "    .dataframe tbody tr th:only-of-type {\n",
       "        vertical-align: middle;\n",
       "    }\n",
       "\n",
       "    .dataframe tbody tr th {\n",
       "        vertical-align: top;\n",
       "    }\n",
       "\n",
       "    .dataframe thead th {\n",
       "        text-align: right;\n",
       "    }\n",
       "</style>\n",
       "<table border=\"1\" class=\"dataframe\">\n",
       "  <thead>\n",
       "    <tr style=\"text-align: right;\">\n",
       "      <th></th>\n",
       "      <th>cont1</th>\n",
       "      <th>cont2</th>\n",
       "      <th>cont3</th>\n",
       "      <th>cont4</th>\n",
       "      <th>cont5</th>\n",
       "      <th>cont6</th>\n",
       "      <th>cont7</th>\n",
       "      <th>cont8</th>\n",
       "      <th>cont9</th>\n",
       "      <th>cont10</th>\n",
       "      <th>cont11</th>\n",
       "      <th>cont12</th>\n",
       "      <th>cont13</th>\n",
       "      <th>cont14</th>\n",
       "      <th>target</th>\n",
       "    </tr>\n",
       "    <tr>\n",
       "      <th>id</th>\n",
       "      <th></th>\n",
       "      <th></th>\n",
       "      <th></th>\n",
       "      <th></th>\n",
       "      <th></th>\n",
       "      <th></th>\n",
       "      <th></th>\n",
       "      <th></th>\n",
       "      <th></th>\n",
       "      <th></th>\n",
       "      <th></th>\n",
       "      <th></th>\n",
       "      <th></th>\n",
       "      <th></th>\n",
       "      <th></th>\n",
       "    </tr>\n",
       "  </thead>\n",
       "  <tbody>\n",
       "    <tr>\n",
       "      <th>1</th>\n",
       "      <td>0.670390</td>\n",
       "      <td>0.811300</td>\n",
       "      <td>0.643968</td>\n",
       "      <td>0.291791</td>\n",
       "      <td>0.284117</td>\n",
       "      <td>0.855953</td>\n",
       "      <td>0.890700</td>\n",
       "      <td>0.285542</td>\n",
       "      <td>0.558245</td>\n",
       "      <td>0.779418</td>\n",
       "      <td>0.921832</td>\n",
       "      <td>0.866772</td>\n",
       "      <td>0.878733</td>\n",
       "      <td>0.305411</td>\n",
       "      <td>7.243043</td>\n",
       "    </tr>\n",
       "    <tr>\n",
       "      <th>3</th>\n",
       "      <td>0.388053</td>\n",
       "      <td>0.621104</td>\n",
       "      <td>0.686102</td>\n",
       "      <td>0.501149</td>\n",
       "      <td>0.643790</td>\n",
       "      <td>0.449805</td>\n",
       "      <td>0.510824</td>\n",
       "      <td>0.580748</td>\n",
       "      <td>0.418335</td>\n",
       "      <td>0.432632</td>\n",
       "      <td>0.439872</td>\n",
       "      <td>0.434971</td>\n",
       "      <td>0.369957</td>\n",
       "      <td>0.369484</td>\n",
       "      <td>8.203331</td>\n",
       "    </tr>\n",
       "    <tr>\n",
       "      <th>4</th>\n",
       "      <td>0.834950</td>\n",
       "      <td>0.227436</td>\n",
       "      <td>0.301584</td>\n",
       "      <td>0.293408</td>\n",
       "      <td>0.606839</td>\n",
       "      <td>0.829175</td>\n",
       "      <td>0.506143</td>\n",
       "      <td>0.558771</td>\n",
       "      <td>0.587603</td>\n",
       "      <td>0.823312</td>\n",
       "      <td>0.567007</td>\n",
       "      <td>0.677708</td>\n",
       "      <td>0.882938</td>\n",
       "      <td>0.303047</td>\n",
       "      <td>7.776091</td>\n",
       "    </tr>\n",
       "    <tr>\n",
       "      <th>5</th>\n",
       "      <td>0.820708</td>\n",
       "      <td>0.160155</td>\n",
       "      <td>0.546887</td>\n",
       "      <td>0.726104</td>\n",
       "      <td>0.282444</td>\n",
       "      <td>0.785108</td>\n",
       "      <td>0.752758</td>\n",
       "      <td>0.823267</td>\n",
       "      <td>0.574466</td>\n",
       "      <td>0.580843</td>\n",
       "      <td>0.769594</td>\n",
       "      <td>0.818143</td>\n",
       "      <td>0.914281</td>\n",
       "      <td>0.279528</td>\n",
       "      <td>6.957716</td>\n",
       "    </tr>\n",
       "    <tr>\n",
       "      <th>8</th>\n",
       "      <td>0.935278</td>\n",
       "      <td>0.421235</td>\n",
       "      <td>0.303801</td>\n",
       "      <td>0.880214</td>\n",
       "      <td>0.665610</td>\n",
       "      <td>0.830131</td>\n",
       "      <td>0.487113</td>\n",
       "      <td>0.604157</td>\n",
       "      <td>0.874658</td>\n",
       "      <td>0.863427</td>\n",
       "      <td>0.983575</td>\n",
       "      <td>0.900464</td>\n",
       "      <td>0.935918</td>\n",
       "      <td>0.435772</td>\n",
       "      <td>7.951046</td>\n",
       "    </tr>\n",
       "  </tbody>\n",
       "</table>\n",
       "</div>"
      ],
      "text/plain": [
       "       cont1     cont2     cont3     cont4     cont5     cont6     cont7  \\\n",
       "id                                                                         \n",
       "1   0.670390  0.811300  0.643968  0.291791  0.284117  0.855953  0.890700   \n",
       "3   0.388053  0.621104  0.686102  0.501149  0.643790  0.449805  0.510824   \n",
       "4   0.834950  0.227436  0.301584  0.293408  0.606839  0.829175  0.506143   \n",
       "5   0.820708  0.160155  0.546887  0.726104  0.282444  0.785108  0.752758   \n",
       "8   0.935278  0.421235  0.303801  0.880214  0.665610  0.830131  0.487113   \n",
       "\n",
       "       cont8     cont9    cont10    cont11    cont12    cont13    cont14  \\\n",
       "id                                                                         \n",
       "1   0.285542  0.558245  0.779418  0.921832  0.866772  0.878733  0.305411   \n",
       "3   0.580748  0.418335  0.432632  0.439872  0.434971  0.369957  0.369484   \n",
       "4   0.558771  0.587603  0.823312  0.567007  0.677708  0.882938  0.303047   \n",
       "5   0.823267  0.574466  0.580843  0.769594  0.818143  0.914281  0.279528   \n",
       "8   0.604157  0.874658  0.863427  0.983575  0.900464  0.935918  0.435772   \n",
       "\n",
       "      target  \n",
       "id            \n",
       "1   7.243043  \n",
       "3   8.203331  \n",
       "4   7.776091  \n",
       "5   6.957716  \n",
       "8   7.951046  "
      ]
     },
     "execution_count": 3,
     "metadata": {},
     "output_type": "execute_result"
    }
   ],
   "source": [
    "#Dataset con los datos de testing\n",
    "\n",
    "test = pd.read_csv(input_path / 'test.csv', index_col='id')\n",
    "train.head()"
   ]
  },
  {
   "cell_type": "code",
   "execution_count": 4,
   "metadata": {
    "execution": {
     "iopub.execute_input": "2021-01-06T15:50:44.162606Z",
     "iopub.status.busy": "2021-01-06T15:50:44.161941Z",
     "iopub.status.idle": "2021-01-06T15:50:44.253572Z",
     "shell.execute_reply": "2021-01-06T15:50:44.253095Z"
    },
    "papermill": {
     "duration": 0.114385,
     "end_time": "2021-01-06T15:50:44.253690",
     "exception": false,
     "start_time": "2021-01-06T15:50:44.139305",
     "status": "completed"
    },
    "tags": []
   },
   "outputs": [
    {
     "data": {
      "text/html": [
       "<div>\n",
       "<style scoped>\n",
       "    .dataframe tbody tr th:only-of-type {\n",
       "        vertical-align: middle;\n",
       "    }\n",
       "\n",
       "    .dataframe tbody tr th {\n",
       "        vertical-align: top;\n",
       "    }\n",
       "\n",
       "    .dataframe thead th {\n",
       "        text-align: right;\n",
       "    }\n",
       "</style>\n",
       "<table border=\"1\" class=\"dataframe\">\n",
       "  <thead>\n",
       "    <tr style=\"text-align: right;\">\n",
       "      <th></th>\n",
       "      <th>target</th>\n",
       "    </tr>\n",
       "    <tr>\n",
       "      <th>id</th>\n",
       "      <th></th>\n",
       "    </tr>\n",
       "  </thead>\n",
       "  <tbody>\n",
       "    <tr>\n",
       "      <th>0</th>\n",
       "      <td>0.5</td>\n",
       "    </tr>\n",
       "    <tr>\n",
       "      <th>2</th>\n",
       "      <td>0.5</td>\n",
       "    </tr>\n",
       "    <tr>\n",
       "      <th>6</th>\n",
       "      <td>0.5</td>\n",
       "    </tr>\n",
       "    <tr>\n",
       "      <th>7</th>\n",
       "      <td>0.5</td>\n",
       "    </tr>\n",
       "    <tr>\n",
       "      <th>10</th>\n",
       "      <td>0.5</td>\n",
       "    </tr>\n",
       "  </tbody>\n",
       "</table>\n",
       "</div>"
      ],
      "text/plain": [
       "    target\n",
       "id        \n",
       "0      0.5\n",
       "2      0.5\n",
       "6      0.5\n",
       "7      0.5\n",
       "10     0.5"
      ]
     },
     "metadata": {},
     "output_type": "display_data"
    }
   ],
   "source": [
    "#Dataset para realizar el submit\n",
    "\n",
    "submission = pd.read_csv(input_path / 'sample_submission.csv', index_col='id')\n",
    "display(submission.head())"
   ]
  },
  {
   "cell_type": "markdown",
   "metadata": {
    "papermill": {
     "duration": 0.018023,
     "end_time": "2021-01-06T15:50:44.288462",
     "exception": false,
     "start_time": "2021-01-06T15:50:44.270439",
     "status": "completed"
    },
    "tags": []
   },
   "source": [
    "# 3. Split del dataset train"
   ]
  },
  {
   "cell_type": "code",
   "execution_count": 5,
   "metadata": {
    "execution": {
     "iopub.execute_input": "2021-01-06T15:50:44.333301Z",
     "iopub.status.busy": "2021-01-06T15:50:44.332289Z",
     "iopub.status.idle": "2021-01-06T15:50:44.337910Z",
     "shell.execute_reply": "2021-01-06T15:50:44.337371Z"
    },
    "papermill": {
     "duration": 0.031901,
     "end_time": "2021-01-06T15:50:44.338066",
     "exception": false,
     "start_time": "2021-01-06T15:50:44.306165",
     "status": "completed"
    },
    "tags": []
   },
   "outputs": [
    {
     "data": {
      "text/plain": [
       "id\n",
       "1    7.243043\n",
       "3    8.203331\n",
       "4    7.776091\n",
       "5    6.957716\n",
       "8    7.951046\n",
       "Name: target, dtype: float64"
      ]
     },
     "execution_count": 5,
     "metadata": {},
     "output_type": "execute_result"
    }
   ],
   "source": [
    "#Selecciono la columna del dataset que tiene la etiqueta del target\n",
    "\n",
    "target = train['target']\n",
    "target.head()"
   ]
  },
  {
   "cell_type": "code",
   "execution_count": 6,
   "metadata": {
    "execution": {
     "iopub.execute_input": "2021-01-06T15:50:44.397478Z",
     "iopub.status.busy": "2021-01-06T15:50:44.396496Z",
     "iopub.status.idle": "2021-01-06T15:50:44.475559Z",
     "shell.execute_reply": "2021-01-06T15:50:44.474767Z"
    },
    "papermill": {
     "duration": 0.119251,
     "end_time": "2021-01-06T15:50:44.475713",
     "exception": false,
     "start_time": "2021-01-06T15:50:44.356462",
     "status": "completed"
    },
    "tags": []
   },
   "outputs": [],
   "source": [
    "#Realizo la division de train/test\n",
    "#Elijo una division 75% / 25%\n",
    "\n",
    "train_clean = train.drop(columns=['target'])\n",
    "X_train, X_test, y_train, y_test = train_test_split(train_clean, target, train_size=0.75)"
   ]
  },
  {
   "cell_type": "code",
   "execution_count": 7,
   "metadata": {
    "execution": {
     "iopub.execute_input": "2021-01-06T15:50:44.529816Z",
     "iopub.status.busy": "2021-01-06T15:50:44.529059Z",
     "iopub.status.idle": "2021-01-06T15:50:44.534163Z",
     "shell.execute_reply": "2021-01-06T15:50:44.533523Z"
    },
    "papermill": {
     "duration": 0.040191,
     "end_time": "2021-01-06T15:50:44.534294",
     "exception": false,
     "start_time": "2021-01-06T15:50:44.494103",
     "status": "completed"
    },
    "tags": []
   },
   "outputs": [
    {
     "data": {
      "text/html": [
       "<div>\n",
       "<style scoped>\n",
       "    .dataframe tbody tr th:only-of-type {\n",
       "        vertical-align: middle;\n",
       "    }\n",
       "\n",
       "    .dataframe tbody tr th {\n",
       "        vertical-align: top;\n",
       "    }\n",
       "\n",
       "    .dataframe thead th {\n",
       "        text-align: right;\n",
       "    }\n",
       "</style>\n",
       "<table border=\"1\" class=\"dataframe\">\n",
       "  <thead>\n",
       "    <tr style=\"text-align: right;\">\n",
       "      <th></th>\n",
       "      <th>cont1</th>\n",
       "      <th>cont2</th>\n",
       "      <th>cont3</th>\n",
       "      <th>cont4</th>\n",
       "      <th>cont5</th>\n",
       "      <th>cont6</th>\n",
       "      <th>cont7</th>\n",
       "      <th>cont8</th>\n",
       "      <th>cont9</th>\n",
       "      <th>cont10</th>\n",
       "      <th>cont11</th>\n",
       "      <th>cont12</th>\n",
       "      <th>cont13</th>\n",
       "      <th>cont14</th>\n",
       "    </tr>\n",
       "    <tr>\n",
       "      <th>id</th>\n",
       "      <th></th>\n",
       "      <th></th>\n",
       "      <th></th>\n",
       "      <th></th>\n",
       "      <th></th>\n",
       "      <th></th>\n",
       "      <th></th>\n",
       "      <th></th>\n",
       "      <th></th>\n",
       "      <th></th>\n",
       "      <th></th>\n",
       "      <th></th>\n",
       "      <th></th>\n",
       "      <th></th>\n",
       "    </tr>\n",
       "  </thead>\n",
       "  <tbody>\n",
       "    <tr>\n",
       "      <th>225042</th>\n",
       "      <td>0.369640</td>\n",
       "      <td>0.201214</td>\n",
       "      <td>0.186367</td>\n",
       "      <td>0.194484</td>\n",
       "      <td>0.282640</td>\n",
       "      <td>0.634619</td>\n",
       "      <td>0.275607</td>\n",
       "      <td>0.317120</td>\n",
       "      <td>0.243980</td>\n",
       "      <td>0.515179</td>\n",
       "      <td>0.385905</td>\n",
       "      <td>0.359371</td>\n",
       "      <td>0.624074</td>\n",
       "      <td>0.817896</td>\n",
       "    </tr>\n",
       "    <tr>\n",
       "      <th>126950</th>\n",
       "      <td>0.516216</td>\n",
       "      <td>0.359333</td>\n",
       "      <td>0.626508</td>\n",
       "      <td>0.204100</td>\n",
       "      <td>0.281278</td>\n",
       "      <td>0.351194</td>\n",
       "      <td>0.440096</td>\n",
       "      <td>0.291987</td>\n",
       "      <td>0.377728</td>\n",
       "      <td>0.344013</td>\n",
       "      <td>0.695414</td>\n",
       "      <td>0.718970</td>\n",
       "      <td>0.301419</td>\n",
       "      <td>0.546510</td>\n",
       "    </tr>\n",
       "    <tr>\n",
       "      <th>22067</th>\n",
       "      <td>0.524545</td>\n",
       "      <td>0.811360</td>\n",
       "      <td>0.613073</td>\n",
       "      <td>0.402654</td>\n",
       "      <td>0.810734</td>\n",
       "      <td>0.361090</td>\n",
       "      <td>0.373168</td>\n",
       "      <td>0.350126</td>\n",
       "      <td>0.355360</td>\n",
       "      <td>0.451080</td>\n",
       "      <td>0.238740</td>\n",
       "      <td>0.250639</td>\n",
       "      <td>0.337118</td>\n",
       "      <td>0.405868</td>\n",
       "    </tr>\n",
       "    <tr>\n",
       "      <th>387611</th>\n",
       "      <td>0.517585</td>\n",
       "      <td>0.485133</td>\n",
       "      <td>0.850992</td>\n",
       "      <td>0.301902</td>\n",
       "      <td>0.282056</td>\n",
       "      <td>0.516305</td>\n",
       "      <td>0.862798</td>\n",
       "      <td>0.340463</td>\n",
       "      <td>0.444701</td>\n",
       "      <td>0.513679</td>\n",
       "      <td>0.460494</td>\n",
       "      <td>0.691996</td>\n",
       "      <td>0.312548</td>\n",
       "      <td>0.831721</td>\n",
       "    </tr>\n",
       "    <tr>\n",
       "      <th>146525</th>\n",
       "      <td>0.600328</td>\n",
       "      <td>0.094541</td>\n",
       "      <td>0.233782</td>\n",
       "      <td>0.776495</td>\n",
       "      <td>0.302387</td>\n",
       "      <td>0.425717</td>\n",
       "      <td>0.449714</td>\n",
       "      <td>0.504839</td>\n",
       "      <td>0.433661</td>\n",
       "      <td>0.426977</td>\n",
       "      <td>0.411585</td>\n",
       "      <td>0.414510</td>\n",
       "      <td>0.367366</td>\n",
       "      <td>0.450154</td>\n",
       "    </tr>\n",
       "  </tbody>\n",
       "</table>\n",
       "</div>"
      ],
      "text/plain": [
       "           cont1     cont2     cont3     cont4     cont5     cont6     cont7  \\\n",
       "id                                                                             \n",
       "225042  0.369640  0.201214  0.186367  0.194484  0.282640  0.634619  0.275607   \n",
       "126950  0.516216  0.359333  0.626508  0.204100  0.281278  0.351194  0.440096   \n",
       "22067   0.524545  0.811360  0.613073  0.402654  0.810734  0.361090  0.373168   \n",
       "387611  0.517585  0.485133  0.850992  0.301902  0.282056  0.516305  0.862798   \n",
       "146525  0.600328  0.094541  0.233782  0.776495  0.302387  0.425717  0.449714   \n",
       "\n",
       "           cont8     cont9    cont10    cont11    cont12    cont13    cont14  \n",
       "id                                                                            \n",
       "225042  0.317120  0.243980  0.515179  0.385905  0.359371  0.624074  0.817896  \n",
       "126950  0.291987  0.377728  0.344013  0.695414  0.718970  0.301419  0.546510  \n",
       "22067   0.350126  0.355360  0.451080  0.238740  0.250639  0.337118  0.405868  \n",
       "387611  0.340463  0.444701  0.513679  0.460494  0.691996  0.312548  0.831721  \n",
       "146525  0.504839  0.433661  0.426977  0.411585  0.414510  0.367366  0.450154  "
      ]
     },
     "execution_count": 7,
     "metadata": {},
     "output_type": "execute_result"
    }
   ],
   "source": [
    "X_train.head()"
   ]
  },
  {
   "cell_type": "code",
   "execution_count": 8,
   "metadata": {
    "execution": {
     "iopub.execute_input": "2021-01-06T15:50:44.590135Z",
     "iopub.status.busy": "2021-01-06T15:50:44.588936Z",
     "iopub.status.idle": "2021-01-06T15:50:44.593949Z",
     "shell.execute_reply": "2021-01-06T15:50:44.593345Z"
    },
    "papermill": {
     "duration": 0.04124,
     "end_time": "2021-01-06T15:50:44.594088",
     "exception": false,
     "start_time": "2021-01-06T15:50:44.552848",
     "status": "completed"
    },
    "tags": []
   },
   "outputs": [
    {
     "data": {
      "text/html": [
       "<div>\n",
       "<style scoped>\n",
       "    .dataframe tbody tr th:only-of-type {\n",
       "        vertical-align: middle;\n",
       "    }\n",
       "\n",
       "    .dataframe tbody tr th {\n",
       "        vertical-align: top;\n",
       "    }\n",
       "\n",
       "    .dataframe thead th {\n",
       "        text-align: right;\n",
       "    }\n",
       "</style>\n",
       "<table border=\"1\" class=\"dataframe\">\n",
       "  <thead>\n",
       "    <tr style=\"text-align: right;\">\n",
       "      <th></th>\n",
       "      <th>cont1</th>\n",
       "      <th>cont2</th>\n",
       "      <th>cont3</th>\n",
       "      <th>cont4</th>\n",
       "      <th>cont5</th>\n",
       "      <th>cont6</th>\n",
       "      <th>cont7</th>\n",
       "      <th>cont8</th>\n",
       "      <th>cont9</th>\n",
       "      <th>cont10</th>\n",
       "      <th>cont11</th>\n",
       "      <th>cont12</th>\n",
       "      <th>cont13</th>\n",
       "      <th>cont14</th>\n",
       "    </tr>\n",
       "    <tr>\n",
       "      <th>id</th>\n",
       "      <th></th>\n",
       "      <th></th>\n",
       "      <th></th>\n",
       "      <th></th>\n",
       "      <th></th>\n",
       "      <th></th>\n",
       "      <th></th>\n",
       "      <th></th>\n",
       "      <th></th>\n",
       "      <th></th>\n",
       "      <th></th>\n",
       "      <th></th>\n",
       "      <th></th>\n",
       "      <th></th>\n",
       "    </tr>\n",
       "  </thead>\n",
       "  <tbody>\n",
       "    <tr>\n",
       "      <th>380399</th>\n",
       "      <td>0.435042</td>\n",
       "      <td>0.359410</td>\n",
       "      <td>0.457517</td>\n",
       "      <td>0.302191</td>\n",
       "      <td>0.283262</td>\n",
       "      <td>0.461435</td>\n",
       "      <td>0.403791</td>\n",
       "      <td>0.370047</td>\n",
       "      <td>0.449372</td>\n",
       "      <td>0.442236</td>\n",
       "      <td>0.356482</td>\n",
       "      <td>0.597856</td>\n",
       "      <td>0.619069</td>\n",
       "      <td>0.383350</td>\n",
       "    </tr>\n",
       "    <tr>\n",
       "      <th>236119</th>\n",
       "      <td>0.358594</td>\n",
       "      <td>0.422407</td>\n",
       "      <td>0.622460</td>\n",
       "      <td>0.283546</td>\n",
       "      <td>0.494389</td>\n",
       "      <td>0.331663</td>\n",
       "      <td>0.307103</td>\n",
       "      <td>0.338759</td>\n",
       "      <td>0.334922</td>\n",
       "      <td>0.655282</td>\n",
       "      <td>0.222484</td>\n",
       "      <td>0.334060</td>\n",
       "      <td>0.360401</td>\n",
       "      <td>0.391902</td>\n",
       "    </tr>\n",
       "    <tr>\n",
       "      <th>99976</th>\n",
       "      <td>0.309911</td>\n",
       "      <td>0.486784</td>\n",
       "      <td>0.553156</td>\n",
       "      <td>0.834234</td>\n",
       "      <td>0.746600</td>\n",
       "      <td>0.259821</td>\n",
       "      <td>0.359103</td>\n",
       "      <td>0.464011</td>\n",
       "      <td>0.155086</td>\n",
       "      <td>0.390565</td>\n",
       "      <td>0.305984</td>\n",
       "      <td>0.255093</td>\n",
       "      <td>0.409280</td>\n",
       "      <td>0.314155</td>\n",
       "    </tr>\n",
       "    <tr>\n",
       "      <th>125022</th>\n",
       "      <td>0.343870</td>\n",
       "      <td>0.732958</td>\n",
       "      <td>0.519512</td>\n",
       "      <td>0.195927</td>\n",
       "      <td>0.284853</td>\n",
       "      <td>0.392511</td>\n",
       "      <td>0.325517</td>\n",
       "      <td>0.249657</td>\n",
       "      <td>0.339665</td>\n",
       "      <td>0.400362</td>\n",
       "      <td>0.707004</td>\n",
       "      <td>0.278869</td>\n",
       "      <td>0.372669</td>\n",
       "      <td>0.740087</td>\n",
       "    </tr>\n",
       "    <tr>\n",
       "      <th>142714</th>\n",
       "      <td>0.330748</td>\n",
       "      <td>0.556601</td>\n",
       "      <td>0.622277</td>\n",
       "      <td>0.329989</td>\n",
       "      <td>0.464312</td>\n",
       "      <td>0.388068</td>\n",
       "      <td>0.540969</td>\n",
       "      <td>0.508226</td>\n",
       "      <td>0.179851</td>\n",
       "      <td>0.387161</td>\n",
       "      <td>0.222504</td>\n",
       "      <td>0.295095</td>\n",
       "      <td>0.644670</td>\n",
       "      <td>0.846242</td>\n",
       "    </tr>\n",
       "  </tbody>\n",
       "</table>\n",
       "</div>"
      ],
      "text/plain": [
       "           cont1     cont2     cont3     cont4     cont5     cont6     cont7  \\\n",
       "id                                                                             \n",
       "380399  0.435042  0.359410  0.457517  0.302191  0.283262  0.461435  0.403791   \n",
       "236119  0.358594  0.422407  0.622460  0.283546  0.494389  0.331663  0.307103   \n",
       "99976   0.309911  0.486784  0.553156  0.834234  0.746600  0.259821  0.359103   \n",
       "125022  0.343870  0.732958  0.519512  0.195927  0.284853  0.392511  0.325517   \n",
       "142714  0.330748  0.556601  0.622277  0.329989  0.464312  0.388068  0.540969   \n",
       "\n",
       "           cont8     cont9    cont10    cont11    cont12    cont13    cont14  \n",
       "id                                                                            \n",
       "380399  0.370047  0.449372  0.442236  0.356482  0.597856  0.619069  0.383350  \n",
       "236119  0.338759  0.334922  0.655282  0.222484  0.334060  0.360401  0.391902  \n",
       "99976   0.464011  0.155086  0.390565  0.305984  0.255093  0.409280  0.314155  \n",
       "125022  0.249657  0.339665  0.400362  0.707004  0.278869  0.372669  0.740087  \n",
       "142714  0.508226  0.179851  0.387161  0.222504  0.295095  0.644670  0.846242  "
      ]
     },
     "execution_count": 8,
     "metadata": {},
     "output_type": "execute_result"
    }
   ],
   "source": [
    "X_test.head()"
   ]
  },
  {
   "cell_type": "code",
   "execution_count": 9,
   "metadata": {
    "execution": {
     "iopub.execute_input": "2021-01-06T15:50:44.641183Z",
     "iopub.status.busy": "2021-01-06T15:50:44.640137Z",
     "iopub.status.idle": "2021-01-06T15:50:44.644839Z",
     "shell.execute_reply": "2021-01-06T15:50:44.644156Z"
    },
    "papermill": {
     "duration": 0.031589,
     "end_time": "2021-01-06T15:50:44.644984",
     "exception": false,
     "start_time": "2021-01-06T15:50:44.613395",
     "status": "completed"
    },
    "tags": []
   },
   "outputs": [
    {
     "data": {
      "text/plain": [
       "id\n",
       "225042    7.817875\n",
       "126950    7.485827\n",
       "22067     7.944663\n",
       "387611    9.155117\n",
       "146525    7.170561\n",
       "Name: target, dtype: float64"
      ]
     },
     "execution_count": 9,
     "metadata": {},
     "output_type": "execute_result"
    }
   ],
   "source": [
    "y_train.head()"
   ]
  },
  {
   "cell_type": "code",
   "execution_count": 10,
   "metadata": {
    "execution": {
     "iopub.execute_input": "2021-01-06T15:50:44.692470Z",
     "iopub.status.busy": "2021-01-06T15:50:44.691419Z",
     "iopub.status.idle": "2021-01-06T15:50:44.696449Z",
     "shell.execute_reply": "2021-01-06T15:50:44.697050Z"
    },
    "papermill": {
     "duration": 0.032515,
     "end_time": "2021-01-06T15:50:44.697241",
     "exception": false,
     "start_time": "2021-01-06T15:50:44.664726",
     "status": "completed"
    },
    "tags": []
   },
   "outputs": [
    {
     "data": {
      "text/plain": [
       "id\n",
       "380399    8.288779\n",
       "236119    7.699010\n",
       "99976     7.694323\n",
       "125022    8.421956\n",
       "142714    8.429737\n",
       "Name: target, dtype: float64"
      ]
     },
     "execution_count": 10,
     "metadata": {},
     "output_type": "execute_result"
    }
   ],
   "source": [
    "y_test.head()"
   ]
  },
  {
   "cell_type": "markdown",
   "metadata": {
    "papermill": {
     "duration": 0.020768,
     "end_time": "2021-01-06T15:50:44.739553",
     "exception": false,
     "start_time": "2021-01-06T15:50:44.718785",
     "status": "completed"
    },
    "tags": []
   },
   "source": [
    "# 4. Ridge Regresion"
   ]
  },
  {
   "cell_type": "markdown",
   "metadata": {
    "papermill": {
     "duration": 0.020813,
     "end_time": "2021-01-06T15:50:44.780055",
     "exception": false,
     "start_time": "2021-01-06T15:50:44.759242",
     "status": "completed"
    },
    "tags": []
   },
   "source": [
    "### 4.1 Sin escalar"
   ]
  },
  {
   "cell_type": "code",
   "execution_count": 11,
   "metadata": {
    "execution": {
     "iopub.execute_input": "2021-01-06T15:50:44.825735Z",
     "iopub.status.busy": "2021-01-06T15:50:44.824770Z",
     "iopub.status.idle": "2021-01-06T15:50:44.828825Z",
     "shell.execute_reply": "2021-01-06T15:50:44.828242Z"
    },
    "papermill": {
     "duration": 0.028853,
     "end_time": "2021-01-06T15:50:44.828955",
     "exception": false,
     "start_time": "2021-01-06T15:50:44.800102",
     "status": "completed"
    },
    "tags": []
   },
   "outputs": [],
   "source": [
    "pipeline_ridge1 = Pipeline([('regressor',Ridge())])"
   ]
  },
  {
   "cell_type": "code",
   "execution_count": 12,
   "metadata": {
    "execution": {
     "iopub.execute_input": "2021-01-06T15:50:44.879896Z",
     "iopub.status.busy": "2021-01-06T15:50:44.878854Z",
     "iopub.status.idle": "2021-01-06T15:50:44.882259Z",
     "shell.execute_reply": "2021-01-06T15:50:44.881662Z"
    },
    "papermill": {
     "duration": 0.033213,
     "end_time": "2021-01-06T15:50:44.882383",
     "exception": false,
     "start_time": "2021-01-06T15:50:44.849170",
     "status": "completed"
    },
    "tags": []
   },
   "outputs": [],
   "source": [
    "hiperparametros1 = {'regressor__alpha': np.linspace(0.00001,20,200),\n",
    "                   'regressor__fit_intercept':[False,True],\n",
    "                   'regressor__normalize':[False,True],\n",
    "                   'regressor__solver':['auto'],\n",
    "                   'regressor__random_state':[42]}"
   ]
  },
  {
   "cell_type": "code",
   "execution_count": 13,
   "metadata": {
    "execution": {
     "iopub.execute_input": "2021-01-06T15:50:44.932612Z",
     "iopub.status.busy": "2021-01-06T15:50:44.931801Z",
     "iopub.status.idle": "2021-01-06T15:52:37.534265Z",
     "shell.execute_reply": "2021-01-06T15:52:37.533340Z"
    },
    "papermill": {
     "duration": 112.631834,
     "end_time": "2021-01-06T15:52:37.534438",
     "exception": false,
     "start_time": "2021-01-06T15:50:44.902604",
     "status": "completed"
    },
    "tags": []
   },
   "outputs": [
    {
     "name": "stdout",
     "output_type": "stream",
     "text": [
      "Fitting 5 folds for each of 800 candidates, totalling 4000 fits\n"
     ]
    },
    {
     "name": "stderr",
     "output_type": "stream",
     "text": [
      "[Parallel(n_jobs=-1)]: Using backend LokyBackend with 4 concurrent workers.\n",
      "[Parallel(n_jobs=-1)]: Done  33 tasks      | elapsed:    3.1s\n",
      "[Parallel(n_jobs=-1)]: Done 264 tasks      | elapsed:    9.0s\n",
      "[Parallel(n_jobs=-1)]: Done 670 tasks      | elapsed:   18.8s\n",
      "[Parallel(n_jobs=-1)]: Done 1236 tasks      | elapsed:   32.9s\n",
      "[Parallel(n_jobs=-1)]: Done 1966 tasks      | elapsed:   52.2s\n",
      "[Parallel(n_jobs=-1)]: Done 2856 tasks      | elapsed:  1.3min\n",
      "[Parallel(n_jobs=-1)]: Done 3910 tasks      | elapsed:  1.8min\n",
      "[Parallel(n_jobs=-1)]: Done 4000 out of 4000 | elapsed:  1.9min finished\n"
     ]
    },
    {
     "name": "stdout",
     "output_type": "stream",
     "text": [
      "Mejor Score:  0.018602970309023248\n",
      "Mejores Parametros:  {'regressor__alpha': 8.743724221105527, 'regressor__fit_intercept': True, 'regressor__normalize': False, 'regressor__random_state': 42, 'regressor__solver': 'auto'}\n"
     ]
    }
   ],
   "source": [
    "#Tuning de Hiperparametros\n",
    "model1 = GridSearchCV(pipeline_ridge1, hiperparametros1,cv=5, n_jobs=-1,verbose=2)\n",
    "model1.fit(X_train, y_train)\n",
    "\n",
    "\n",
    "#Muestro los resultados\n",
    "\n",
    "print(\"Mejor Score: \", model1.best_score_)\n",
    "\n",
    "print(\"Mejores Parametros: \", model1.best_params_)"
   ]
  },
  {
   "cell_type": "code",
   "execution_count": 14,
   "metadata": {
    "execution": {
     "iopub.execute_input": "2021-01-06T15:52:37.593328Z",
     "iopub.status.busy": "2021-01-06T15:52:37.592429Z",
     "iopub.status.idle": "2021-01-06T15:52:37.600460Z",
     "shell.execute_reply": "2021-01-06T15:52:37.599806Z"
    },
    "papermill": {
     "duration": 0.036862,
     "end_time": "2021-01-06T15:52:37.600576",
     "exception": false,
     "start_time": "2021-01-06T15:52:37.563714",
     "status": "completed"
    },
    "tags": []
   },
   "outputs": [
    {
     "data": {
      "text/plain": [
       "array([7.8516216 , 7.72565939, 7.88605891, ..., 8.01436501, 8.10064232,\n",
       "       7.87218584])"
      ]
     },
     "execution_count": 14,
     "metadata": {},
     "output_type": "execute_result"
    }
   ],
   "source": [
    "y_predicted1 = model1.predict(X_test)\n",
    "\n",
    "y_predicted1"
   ]
  },
  {
   "cell_type": "code",
   "execution_count": 15,
   "metadata": {
    "execution": {
     "iopub.execute_input": "2021-01-06T15:52:37.651776Z",
     "iopub.status.busy": "2021-01-06T15:52:37.651145Z",
     "iopub.status.idle": "2021-01-06T15:52:37.657592Z",
     "shell.execute_reply": "2021-01-06T15:52:37.658997Z"
    },
    "papermill": {
     "duration": 0.036527,
     "end_time": "2021-01-06T15:52:37.659436",
     "exception": false,
     "start_time": "2021-01-06T15:52:37.622909",
     "status": "completed"
    },
    "tags": []
   },
   "outputs": [
    {
     "name": "stdout",
     "output_type": "stream",
     "text": [
      "0.72826\n"
     ]
    }
   ],
   "source": [
    "score_model1 = mean_squared_error(y_test, y_predicted1, squared=False)\n",
    "\n",
    "print(f'{score_model1:0.5f}')"
   ]
  },
  {
   "cell_type": "markdown",
   "metadata": {
    "papermill": {
     "duration": 0.023771,
     "end_time": "2021-01-06T15:52:37.706328",
     "exception": false,
     "start_time": "2021-01-06T15:52:37.682557",
     "status": "completed"
    },
    "tags": []
   },
   "source": [
    "### 4.2 Escalado"
   ]
  },
  {
   "cell_type": "code",
   "execution_count": 16,
   "metadata": {
    "execution": {
     "iopub.execute_input": "2021-01-06T15:52:37.758000Z",
     "iopub.status.busy": "2021-01-06T15:52:37.757288Z",
     "iopub.status.idle": "2021-01-06T15:52:37.760145Z",
     "shell.execute_reply": "2021-01-06T15:52:37.760598Z"
    },
    "papermill": {
     "duration": 0.031661,
     "end_time": "2021-01-06T15:52:37.760764",
     "exception": false,
     "start_time": "2021-01-06T15:52:37.729103",
     "status": "completed"
    },
    "tags": []
   },
   "outputs": [],
   "source": [
    "pipeline_ridge2 = Pipeline([('scaler',StandardScaler()),('regressor',Ridge())])"
   ]
  },
  {
   "cell_type": "code",
   "execution_count": 17,
   "metadata": {
    "execution": {
     "iopub.execute_input": "2021-01-06T15:52:37.812666Z",
     "iopub.status.busy": "2021-01-06T15:52:37.811723Z",
     "iopub.status.idle": "2021-01-06T15:52:37.815796Z",
     "shell.execute_reply": "2021-01-06T15:52:37.814822Z"
    },
    "papermill": {
     "duration": 0.031901,
     "end_time": "2021-01-06T15:52:37.815931",
     "exception": false,
     "start_time": "2021-01-06T15:52:37.784030",
     "status": "completed"
    },
    "tags": []
   },
   "outputs": [],
   "source": [
    "hiperparametros2 = {'regressor__alpha': np.linspace(0.00001,20,200),\n",
    "                   'regressor__fit_intercept':[False,True],\n",
    "                   'regressor__normalize':[False,True],\n",
    "                   'regressor__solver':['auto'],\n",
    "                   'regressor__random_state':[42]}"
   ]
  },
  {
   "cell_type": "code",
   "execution_count": 18,
   "metadata": {
    "execution": {
     "iopub.execute_input": "2021-01-06T15:52:37.870098Z",
     "iopub.status.busy": "2021-01-06T15:52:37.869411Z",
     "iopub.status.idle": "2021-01-06T15:56:12.411755Z",
     "shell.execute_reply": "2021-01-06T15:56:12.412249Z"
    },
    "papermill": {
     "duration": 214.573333,
     "end_time": "2021-01-06T15:56:12.412463",
     "exception": false,
     "start_time": "2021-01-06T15:52:37.839130",
     "status": "completed"
    },
    "tags": []
   },
   "outputs": [
    {
     "name": "stdout",
     "output_type": "stream",
     "text": [
      "Fitting 5 folds for each of 800 candidates, totalling 4000 fits\n"
     ]
    },
    {
     "name": "stderr",
     "output_type": "stream",
     "text": [
      "[Parallel(n_jobs=-1)]: Using backend LokyBackend with 4 concurrent workers.\n",
      "[Parallel(n_jobs=-1)]: Done  33 tasks      | elapsed:    1.7s\n",
      "[Parallel(n_jobs=-1)]: Done 154 tasks      | elapsed:    8.6s\n",
      "[Parallel(n_jobs=-1)]: Done 357 tasks      | elapsed:   23.2s\n",
      "[Parallel(n_jobs=-1)]: Done 640 tasks      | elapsed:   37.4s\n",
      "[Parallel(n_jobs=-1)]: Done 1005 tasks      | elapsed:   56.1s\n",
      "[Parallel(n_jobs=-1)]: Done 1450 tasks      | elapsed:  1.3min\n",
      "[Parallel(n_jobs=-1)]: Done 1977 tasks      | elapsed:  1.7min\n",
      "[Parallel(n_jobs=-1)]: Done 2584 tasks      | elapsed:  2.2min\n",
      "[Parallel(n_jobs=-1)]: Done 3273 tasks      | elapsed:  2.9min\n",
      "[Parallel(n_jobs=-1)]: Done 4000 out of 4000 | elapsed:  3.6min finished\n"
     ]
    },
    {
     "name": "stdout",
     "output_type": "stream",
     "text": [
      "Mejor Score:  0.01860283185723819\n",
      "Mejores Parametros:  {'regressor__alpha': 20.0, 'regressor__fit_intercept': True, 'regressor__normalize': False, 'regressor__random_state': 42, 'regressor__solver': 'auto'}\n"
     ]
    }
   ],
   "source": [
    "#Tuning de Hiperparametros\n",
    "model2 = GridSearchCV(pipeline_ridge2, hiperparametros2,cv=5, n_jobs=-1,verbose=2)\n",
    "model2.fit(X_train, y_train)\n",
    "\n",
    "\n",
    "#Muestro los resultados\n",
    "\n",
    "print(\"Mejor Score: \", model2.best_score_)\n",
    "\n",
    "print(\"Mejores Parametros: \", model2.best_params_)"
   ]
  },
  {
   "cell_type": "code",
   "execution_count": 19,
   "metadata": {
    "execution": {
     "iopub.execute_input": "2021-01-06T15:56:12.474123Z",
     "iopub.status.busy": "2021-01-06T15:56:12.473467Z",
     "iopub.status.idle": "2021-01-06T15:56:12.490125Z",
     "shell.execute_reply": "2021-01-06T15:56:12.491883Z"
    },
    "papermill": {
     "duration": 0.054607,
     "end_time": "2021-01-06T15:56:12.494842",
     "exception": false,
     "start_time": "2021-01-06T15:56:12.440235",
     "status": "completed"
    },
    "tags": []
   },
   "outputs": [
    {
     "data": {
      "text/plain": [
       "array([7.85157975, 7.72525093, 7.88587998, ..., 8.01457223, 8.10091471,\n",
       "       7.87212875])"
      ]
     },
     "execution_count": 19,
     "metadata": {},
     "output_type": "execute_result"
    }
   ],
   "source": [
    "y_predicted2 = model2.predict(X_test)\n",
    "\n",
    "y_predicted2"
   ]
  },
  {
   "cell_type": "code",
   "execution_count": 20,
   "metadata": {
    "execution": {
     "iopub.execute_input": "2021-01-06T15:56:12.579033Z",
     "iopub.status.busy": "2021-01-06T15:56:12.577942Z",
     "iopub.status.idle": "2021-01-06T15:56:12.587824Z",
     "shell.execute_reply": "2021-01-06T15:56:12.588466Z"
    },
    "papermill": {
     "duration": 0.055588,
     "end_time": "2021-01-06T15:56:12.588681",
     "exception": false,
     "start_time": "2021-01-06T15:56:12.533093",
     "status": "completed"
    },
    "tags": []
   },
   "outputs": [
    {
     "name": "stdout",
     "output_type": "stream",
     "text": [
      "0.72826\n"
     ]
    }
   ],
   "source": [
    "score_model2 = mean_squared_error(y_test, y_predicted2, squared=False)\n",
    "\n",
    "print(f'{score_model2:0.5f}')"
   ]
  },
  {
   "cell_type": "markdown",
   "metadata": {
    "papermill": {
     "duration": 0.053696,
     "end_time": "2021-01-06T15:56:12.677436",
     "exception": false,
     "start_time": "2021-01-06T15:56:12.623740",
     "status": "completed"
    },
    "tags": []
   },
   "source": [
    "# 5. Generacion del Submit"
   ]
  },
  {
   "cell_type": "markdown",
   "metadata": {
    "papermill": {
     "duration": 0.026224,
     "end_time": "2021-01-06T15:56:12.732596",
     "exception": false,
     "start_time": "2021-01-06T15:56:12.706372",
     "status": "completed"
    },
    "tags": []
   },
   "source": [
    "## 5.1 Opcion 1"
   ]
  },
  {
   "cell_type": "code",
   "execution_count": 21,
   "metadata": {
    "execution": {
     "iopub.execute_input": "2021-01-06T15:56:12.791682Z",
     "iopub.status.busy": "2021-01-06T15:56:12.790599Z",
     "iopub.status.idle": "2021-01-06T15:56:13.705891Z",
     "shell.execute_reply": "2021-01-06T15:56:13.706486Z"
    },
    "papermill": {
     "duration": 0.947993,
     "end_time": "2021-01-06T15:56:13.706778",
     "exception": false,
     "start_time": "2021-01-06T15:56:12.758785",
     "status": "completed"
    },
    "tags": []
   },
   "outputs": [],
   "source": [
    "submission['target'] = model1.predict(test)\n",
    "\n",
    "submission.to_csv('ridge_regression1')"
   ]
  },
  {
   "cell_type": "markdown",
   "metadata": {
    "papermill": {
     "duration": 0.027516,
     "end_time": "2021-01-06T15:56:13.763300",
     "exception": false,
     "start_time": "2021-01-06T15:56:13.735784",
     "status": "completed"
    },
    "tags": []
   },
   "source": [
    "## 5.2 Opcion 2"
   ]
  },
  {
   "cell_type": "code",
   "execution_count": 22,
   "metadata": {
    "execution": {
     "iopub.execute_input": "2021-01-06T15:56:13.825169Z",
     "iopub.status.busy": "2021-01-06T15:56:13.823810Z",
     "iopub.status.idle": "2021-01-06T15:56:14.408943Z",
     "shell.execute_reply": "2021-01-06T15:56:14.408266Z"
    },
    "papermill": {
     "duration": 0.619249,
     "end_time": "2021-01-06T15:56:14.409101",
     "exception": false,
     "start_time": "2021-01-06T15:56:13.789852",
     "status": "completed"
    },
    "tags": []
   },
   "outputs": [],
   "source": [
    "submission['target'] = model2.predict(test)\n",
    "\n",
    "submission.to_csv('ridge_regression2')"
   ]
  }
 ],
 "metadata": {
  "kernelspec": {
   "display_name": "Python 3",
   "language": "python",
   "name": "python3"
  },
  "language_info": {
   "codemirror_mode": {
    "name": "ipython",
    "version": 3
   },
   "file_extension": ".py",
   "mimetype": "text/x-python",
   "name": "python",
   "nbconvert_exporter": "python",
   "pygments_lexer": "ipython3",
   "version": "3.7.6"
  },
  "papermill": {
   "duration": 341.29733,
   "end_time": "2021-01-06T15:56:15.552733",
   "environment_variables": {},
   "exception": null,
   "input_path": "__notebook__.ipynb",
   "output_path": "__notebook__.ipynb",
   "parameters": {},
   "start_time": "2021-01-06T15:50:34.255403",
   "version": "2.1.0"
  }
 },
 "nbformat": 4,
 "nbformat_minor": 4
}
