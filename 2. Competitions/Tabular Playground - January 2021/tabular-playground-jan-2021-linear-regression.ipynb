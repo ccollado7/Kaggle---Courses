{
 "cells": [
  {
   "cell_type": "markdown",
   "metadata": {
    "papermill": {
     "duration": 0.01964,
     "end_time": "2021-01-06T01:53:35.701660",
     "exception": false,
     "start_time": "2021-01-06T01:53:35.682020",
     "status": "completed"
    },
    "tags": []
   },
   "source": [
    "# Tabular Playground - Jan 2021 - Linear Regression"
   ]
  },
  {
   "cell_type": "markdown",
   "metadata": {
    "papermill": {
     "duration": 0.017969,
     "end_time": "2021-01-06T01:53:35.738654",
     "exception": false,
     "start_time": "2021-01-06T01:53:35.720685",
     "status": "completed"
    },
    "tags": []
   },
   "source": [
    "# 1. Librerias a utilizar"
   ]
  },
  {
   "cell_type": "code",
   "execution_count": 1,
   "metadata": {
    "_cell_guid": "b1076dfc-b9ad-4769-8c92-a6c4dae69d19",
    "_uuid": "8f2839f25d086af736a60e9eeb907d3b93b6e0e5",
    "execution": {
     "iopub.execute_input": "2021-01-06T01:53:35.779372Z",
     "iopub.status.busy": "2021-01-06T01:53:35.778683Z",
     "iopub.status.idle": "2021-01-06T01:53:37.067825Z",
     "shell.execute_reply": "2021-01-06T01:53:37.068410Z"
    },
    "papermill": {
     "duration": 1.311377,
     "end_time": "2021-01-06T01:53:37.068604",
     "exception": false,
     "start_time": "2021-01-06T01:53:35.757227",
     "status": "completed"
    },
    "tags": []
   },
   "outputs": [
    {
     "name": "stdout",
     "output_type": "stream",
     "text": [
      "/kaggle/input/tabular-playground-series-jan-2021/sample_submission.csv\n",
      "/kaggle/input/tabular-playground-series-jan-2021/train.csv\n",
      "/kaggle/input/tabular-playground-series-jan-2021/test.csv\n"
     ]
    }
   ],
   "source": [
    "import numpy as np\n",
    "import pandas as pd\n",
    "\n",
    "import os\n",
    "for dirname, _, filenames in os.walk('/kaggle/input'):\n",
    "    for filename in filenames:\n",
    "        print(os.path.join(dirname, filename))\n",
    "        \n",
    "import matplotlib.pyplot as plt\n",
    "import seaborn as sns\n",
    "\n",
    "from pathlib import Path\n",
    "input_path = Path('/kaggle/input/tabular-playground-series-jan-2021/')\n",
    "\n",
    "\n",
    "from sklearn.model_selection import train_test_split\n",
    "from sklearn.linear_model import LinearRegression\n",
    "from sklearn.metrics import mean_squared_error"
   ]
  },
  {
   "cell_type": "markdown",
   "metadata": {
    "papermill": {
     "duration": 0.018647,
     "end_time": "2021-01-06T01:53:37.107271",
     "exception": false,
     "start_time": "2021-01-06T01:53:37.088624",
     "status": "completed"
    },
    "tags": []
   },
   "source": [
    "# 2. Dataset de entrenamiento / Dataset de testing"
   ]
  },
  {
   "cell_type": "code",
   "execution_count": 2,
   "metadata": {
    "_cell_guid": "79c7e3d0-c299-4dcb-8224-4455121ee9b0",
    "_uuid": "d629ff2d2480ee46fbb7e2d37f6b5fab8052498a",
    "execution": {
     "iopub.execute_input": "2021-01-06T01:53:37.148166Z",
     "iopub.status.busy": "2021-01-06T01:53:37.147517Z",
     "iopub.status.idle": "2021-01-06T01:53:39.291436Z",
     "shell.execute_reply": "2021-01-06T01:53:39.291947Z"
    },
    "papermill": {
     "duration": 2.165969,
     "end_time": "2021-01-06T01:53:39.292086",
     "exception": false,
     "start_time": "2021-01-06T01:53:37.126117",
     "status": "completed"
    },
    "tags": []
   },
   "outputs": [
    {
     "data": {
      "text/html": [
       "<div>\n",
       "<style scoped>\n",
       "    .dataframe tbody tr th:only-of-type {\n",
       "        vertical-align: middle;\n",
       "    }\n",
       "\n",
       "    .dataframe tbody tr th {\n",
       "        vertical-align: top;\n",
       "    }\n",
       "\n",
       "    .dataframe thead th {\n",
       "        text-align: right;\n",
       "    }\n",
       "</style>\n",
       "<table border=\"1\" class=\"dataframe\">\n",
       "  <thead>\n",
       "    <tr style=\"text-align: right;\">\n",
       "      <th></th>\n",
       "      <th>cont1</th>\n",
       "      <th>cont2</th>\n",
       "      <th>cont3</th>\n",
       "      <th>cont4</th>\n",
       "      <th>cont5</th>\n",
       "      <th>cont6</th>\n",
       "      <th>cont7</th>\n",
       "      <th>cont8</th>\n",
       "      <th>cont9</th>\n",
       "      <th>cont10</th>\n",
       "      <th>cont11</th>\n",
       "      <th>cont12</th>\n",
       "      <th>cont13</th>\n",
       "      <th>cont14</th>\n",
       "      <th>target</th>\n",
       "    </tr>\n",
       "    <tr>\n",
       "      <th>id</th>\n",
       "      <th></th>\n",
       "      <th></th>\n",
       "      <th></th>\n",
       "      <th></th>\n",
       "      <th></th>\n",
       "      <th></th>\n",
       "      <th></th>\n",
       "      <th></th>\n",
       "      <th></th>\n",
       "      <th></th>\n",
       "      <th></th>\n",
       "      <th></th>\n",
       "      <th></th>\n",
       "      <th></th>\n",
       "      <th></th>\n",
       "    </tr>\n",
       "  </thead>\n",
       "  <tbody>\n",
       "    <tr>\n",
       "      <th>1</th>\n",
       "      <td>0.670390</td>\n",
       "      <td>0.811300</td>\n",
       "      <td>0.643968</td>\n",
       "      <td>0.291791</td>\n",
       "      <td>0.284117</td>\n",
       "      <td>0.855953</td>\n",
       "      <td>0.890700</td>\n",
       "      <td>0.285542</td>\n",
       "      <td>0.558245</td>\n",
       "      <td>0.779418</td>\n",
       "      <td>0.921832</td>\n",
       "      <td>0.866772</td>\n",
       "      <td>0.878733</td>\n",
       "      <td>0.305411</td>\n",
       "      <td>7.243043</td>\n",
       "    </tr>\n",
       "    <tr>\n",
       "      <th>3</th>\n",
       "      <td>0.388053</td>\n",
       "      <td>0.621104</td>\n",
       "      <td>0.686102</td>\n",
       "      <td>0.501149</td>\n",
       "      <td>0.643790</td>\n",
       "      <td>0.449805</td>\n",
       "      <td>0.510824</td>\n",
       "      <td>0.580748</td>\n",
       "      <td>0.418335</td>\n",
       "      <td>0.432632</td>\n",
       "      <td>0.439872</td>\n",
       "      <td>0.434971</td>\n",
       "      <td>0.369957</td>\n",
       "      <td>0.369484</td>\n",
       "      <td>8.203331</td>\n",
       "    </tr>\n",
       "    <tr>\n",
       "      <th>4</th>\n",
       "      <td>0.834950</td>\n",
       "      <td>0.227436</td>\n",
       "      <td>0.301584</td>\n",
       "      <td>0.293408</td>\n",
       "      <td>0.606839</td>\n",
       "      <td>0.829175</td>\n",
       "      <td>0.506143</td>\n",
       "      <td>0.558771</td>\n",
       "      <td>0.587603</td>\n",
       "      <td>0.823312</td>\n",
       "      <td>0.567007</td>\n",
       "      <td>0.677708</td>\n",
       "      <td>0.882938</td>\n",
       "      <td>0.303047</td>\n",
       "      <td>7.776091</td>\n",
       "    </tr>\n",
       "    <tr>\n",
       "      <th>5</th>\n",
       "      <td>0.820708</td>\n",
       "      <td>0.160155</td>\n",
       "      <td>0.546887</td>\n",
       "      <td>0.726104</td>\n",
       "      <td>0.282444</td>\n",
       "      <td>0.785108</td>\n",
       "      <td>0.752758</td>\n",
       "      <td>0.823267</td>\n",
       "      <td>0.574466</td>\n",
       "      <td>0.580843</td>\n",
       "      <td>0.769594</td>\n",
       "      <td>0.818143</td>\n",
       "      <td>0.914281</td>\n",
       "      <td>0.279528</td>\n",
       "      <td>6.957716</td>\n",
       "    </tr>\n",
       "    <tr>\n",
       "      <th>8</th>\n",
       "      <td>0.935278</td>\n",
       "      <td>0.421235</td>\n",
       "      <td>0.303801</td>\n",
       "      <td>0.880214</td>\n",
       "      <td>0.665610</td>\n",
       "      <td>0.830131</td>\n",
       "      <td>0.487113</td>\n",
       "      <td>0.604157</td>\n",
       "      <td>0.874658</td>\n",
       "      <td>0.863427</td>\n",
       "      <td>0.983575</td>\n",
       "      <td>0.900464</td>\n",
       "      <td>0.935918</td>\n",
       "      <td>0.435772</td>\n",
       "      <td>7.951046</td>\n",
       "    </tr>\n",
       "  </tbody>\n",
       "</table>\n",
       "</div>"
      ],
      "text/plain": [
       "       cont1     cont2     cont3     cont4     cont5     cont6     cont7  \\\n",
       "id                                                                         \n",
       "1   0.670390  0.811300  0.643968  0.291791  0.284117  0.855953  0.890700   \n",
       "3   0.388053  0.621104  0.686102  0.501149  0.643790  0.449805  0.510824   \n",
       "4   0.834950  0.227436  0.301584  0.293408  0.606839  0.829175  0.506143   \n",
       "5   0.820708  0.160155  0.546887  0.726104  0.282444  0.785108  0.752758   \n",
       "8   0.935278  0.421235  0.303801  0.880214  0.665610  0.830131  0.487113   \n",
       "\n",
       "       cont8     cont9    cont10    cont11    cont12    cont13    cont14  \\\n",
       "id                                                                         \n",
       "1   0.285542  0.558245  0.779418  0.921832  0.866772  0.878733  0.305411   \n",
       "3   0.580748  0.418335  0.432632  0.439872  0.434971  0.369957  0.369484   \n",
       "4   0.558771  0.587603  0.823312  0.567007  0.677708  0.882938  0.303047   \n",
       "5   0.823267  0.574466  0.580843  0.769594  0.818143  0.914281  0.279528   \n",
       "8   0.604157  0.874658  0.863427  0.983575  0.900464  0.935918  0.435772   \n",
       "\n",
       "      target  \n",
       "id            \n",
       "1   7.243043  \n",
       "3   8.203331  \n",
       "4   7.776091  \n",
       "5   6.957716  \n",
       "8   7.951046  "
      ]
     },
     "execution_count": 2,
     "metadata": {},
     "output_type": "execute_result"
    }
   ],
   "source": [
    "#Dataset con los datos de entrenamiento\n",
    "\n",
    "train = pd.read_csv(input_path / 'train.csv', index_col='id')\n",
    "train.head()"
   ]
  },
  {
   "cell_type": "code",
   "execution_count": 3,
   "metadata": {
    "execution": {
     "iopub.execute_input": "2021-01-06T01:53:39.333738Z",
     "iopub.status.busy": "2021-01-06T01:53:39.333051Z",
     "iopub.status.idle": "2021-01-06T01:53:40.597849Z",
     "shell.execute_reply": "2021-01-06T01:53:40.596832Z"
    },
    "papermill": {
     "duration": 1.28671,
     "end_time": "2021-01-06T01:53:40.597974",
     "exception": false,
     "start_time": "2021-01-06T01:53:39.311264",
     "status": "completed"
    },
    "tags": []
   },
   "outputs": [
    {
     "data": {
      "text/html": [
       "<div>\n",
       "<style scoped>\n",
       "    .dataframe tbody tr th:only-of-type {\n",
       "        vertical-align: middle;\n",
       "    }\n",
       "\n",
       "    .dataframe tbody tr th {\n",
       "        vertical-align: top;\n",
       "    }\n",
       "\n",
       "    .dataframe thead th {\n",
       "        text-align: right;\n",
       "    }\n",
       "</style>\n",
       "<table border=\"1\" class=\"dataframe\">\n",
       "  <thead>\n",
       "    <tr style=\"text-align: right;\">\n",
       "      <th></th>\n",
       "      <th>cont1</th>\n",
       "      <th>cont2</th>\n",
       "      <th>cont3</th>\n",
       "      <th>cont4</th>\n",
       "      <th>cont5</th>\n",
       "      <th>cont6</th>\n",
       "      <th>cont7</th>\n",
       "      <th>cont8</th>\n",
       "      <th>cont9</th>\n",
       "      <th>cont10</th>\n",
       "      <th>cont11</th>\n",
       "      <th>cont12</th>\n",
       "      <th>cont13</th>\n",
       "      <th>cont14</th>\n",
       "      <th>target</th>\n",
       "    </tr>\n",
       "    <tr>\n",
       "      <th>id</th>\n",
       "      <th></th>\n",
       "      <th></th>\n",
       "      <th></th>\n",
       "      <th></th>\n",
       "      <th></th>\n",
       "      <th></th>\n",
       "      <th></th>\n",
       "      <th></th>\n",
       "      <th></th>\n",
       "      <th></th>\n",
       "      <th></th>\n",
       "      <th></th>\n",
       "      <th></th>\n",
       "      <th></th>\n",
       "      <th></th>\n",
       "    </tr>\n",
       "  </thead>\n",
       "  <tbody>\n",
       "    <tr>\n",
       "      <th>1</th>\n",
       "      <td>0.670390</td>\n",
       "      <td>0.811300</td>\n",
       "      <td>0.643968</td>\n",
       "      <td>0.291791</td>\n",
       "      <td>0.284117</td>\n",
       "      <td>0.855953</td>\n",
       "      <td>0.890700</td>\n",
       "      <td>0.285542</td>\n",
       "      <td>0.558245</td>\n",
       "      <td>0.779418</td>\n",
       "      <td>0.921832</td>\n",
       "      <td>0.866772</td>\n",
       "      <td>0.878733</td>\n",
       "      <td>0.305411</td>\n",
       "      <td>7.243043</td>\n",
       "    </tr>\n",
       "    <tr>\n",
       "      <th>3</th>\n",
       "      <td>0.388053</td>\n",
       "      <td>0.621104</td>\n",
       "      <td>0.686102</td>\n",
       "      <td>0.501149</td>\n",
       "      <td>0.643790</td>\n",
       "      <td>0.449805</td>\n",
       "      <td>0.510824</td>\n",
       "      <td>0.580748</td>\n",
       "      <td>0.418335</td>\n",
       "      <td>0.432632</td>\n",
       "      <td>0.439872</td>\n",
       "      <td>0.434971</td>\n",
       "      <td>0.369957</td>\n",
       "      <td>0.369484</td>\n",
       "      <td>8.203331</td>\n",
       "    </tr>\n",
       "    <tr>\n",
       "      <th>4</th>\n",
       "      <td>0.834950</td>\n",
       "      <td>0.227436</td>\n",
       "      <td>0.301584</td>\n",
       "      <td>0.293408</td>\n",
       "      <td>0.606839</td>\n",
       "      <td>0.829175</td>\n",
       "      <td>0.506143</td>\n",
       "      <td>0.558771</td>\n",
       "      <td>0.587603</td>\n",
       "      <td>0.823312</td>\n",
       "      <td>0.567007</td>\n",
       "      <td>0.677708</td>\n",
       "      <td>0.882938</td>\n",
       "      <td>0.303047</td>\n",
       "      <td>7.776091</td>\n",
       "    </tr>\n",
       "    <tr>\n",
       "      <th>5</th>\n",
       "      <td>0.820708</td>\n",
       "      <td>0.160155</td>\n",
       "      <td>0.546887</td>\n",
       "      <td>0.726104</td>\n",
       "      <td>0.282444</td>\n",
       "      <td>0.785108</td>\n",
       "      <td>0.752758</td>\n",
       "      <td>0.823267</td>\n",
       "      <td>0.574466</td>\n",
       "      <td>0.580843</td>\n",
       "      <td>0.769594</td>\n",
       "      <td>0.818143</td>\n",
       "      <td>0.914281</td>\n",
       "      <td>0.279528</td>\n",
       "      <td>6.957716</td>\n",
       "    </tr>\n",
       "    <tr>\n",
       "      <th>8</th>\n",
       "      <td>0.935278</td>\n",
       "      <td>0.421235</td>\n",
       "      <td>0.303801</td>\n",
       "      <td>0.880214</td>\n",
       "      <td>0.665610</td>\n",
       "      <td>0.830131</td>\n",
       "      <td>0.487113</td>\n",
       "      <td>0.604157</td>\n",
       "      <td>0.874658</td>\n",
       "      <td>0.863427</td>\n",
       "      <td>0.983575</td>\n",
       "      <td>0.900464</td>\n",
       "      <td>0.935918</td>\n",
       "      <td>0.435772</td>\n",
       "      <td>7.951046</td>\n",
       "    </tr>\n",
       "  </tbody>\n",
       "</table>\n",
       "</div>"
      ],
      "text/plain": [
       "       cont1     cont2     cont3     cont4     cont5     cont6     cont7  \\\n",
       "id                                                                         \n",
       "1   0.670390  0.811300  0.643968  0.291791  0.284117  0.855953  0.890700   \n",
       "3   0.388053  0.621104  0.686102  0.501149  0.643790  0.449805  0.510824   \n",
       "4   0.834950  0.227436  0.301584  0.293408  0.606839  0.829175  0.506143   \n",
       "5   0.820708  0.160155  0.546887  0.726104  0.282444  0.785108  0.752758   \n",
       "8   0.935278  0.421235  0.303801  0.880214  0.665610  0.830131  0.487113   \n",
       "\n",
       "       cont8     cont9    cont10    cont11    cont12    cont13    cont14  \\\n",
       "id                                                                         \n",
       "1   0.285542  0.558245  0.779418  0.921832  0.866772  0.878733  0.305411   \n",
       "3   0.580748  0.418335  0.432632  0.439872  0.434971  0.369957  0.369484   \n",
       "4   0.558771  0.587603  0.823312  0.567007  0.677708  0.882938  0.303047   \n",
       "5   0.823267  0.574466  0.580843  0.769594  0.818143  0.914281  0.279528   \n",
       "8   0.604157  0.874658  0.863427  0.983575  0.900464  0.935918  0.435772   \n",
       "\n",
       "      target  \n",
       "id            \n",
       "1   7.243043  \n",
       "3   8.203331  \n",
       "4   7.776091  \n",
       "5   6.957716  \n",
       "8   7.951046  "
      ]
     },
     "execution_count": 3,
     "metadata": {},
     "output_type": "execute_result"
    }
   ],
   "source": [
    "#Dataset con los datos de testing\n",
    "\n",
    "test = pd.read_csv(input_path / 'test.csv', index_col='id')\n",
    "train.head()"
   ]
  },
  {
   "cell_type": "code",
   "execution_count": 4,
   "metadata": {
    "execution": {
     "iopub.execute_input": "2021-01-06T01:53:40.645411Z",
     "iopub.status.busy": "2021-01-06T01:53:40.644670Z",
     "iopub.status.idle": "2021-01-06T01:53:40.753670Z",
     "shell.execute_reply": "2021-01-06T01:53:40.753091Z"
    },
    "papermill": {
     "duration": 0.135897,
     "end_time": "2021-01-06T01:53:40.753781",
     "exception": false,
     "start_time": "2021-01-06T01:53:40.617884",
     "status": "completed"
    },
    "tags": []
   },
   "outputs": [
    {
     "data": {
      "text/html": [
       "<div>\n",
       "<style scoped>\n",
       "    .dataframe tbody tr th:only-of-type {\n",
       "        vertical-align: middle;\n",
       "    }\n",
       "\n",
       "    .dataframe tbody tr th {\n",
       "        vertical-align: top;\n",
       "    }\n",
       "\n",
       "    .dataframe thead th {\n",
       "        text-align: right;\n",
       "    }\n",
       "</style>\n",
       "<table border=\"1\" class=\"dataframe\">\n",
       "  <thead>\n",
       "    <tr style=\"text-align: right;\">\n",
       "      <th></th>\n",
       "      <th>target</th>\n",
       "    </tr>\n",
       "    <tr>\n",
       "      <th>id</th>\n",
       "      <th></th>\n",
       "    </tr>\n",
       "  </thead>\n",
       "  <tbody>\n",
       "    <tr>\n",
       "      <th>0</th>\n",
       "      <td>0.5</td>\n",
       "    </tr>\n",
       "    <tr>\n",
       "      <th>2</th>\n",
       "      <td>0.5</td>\n",
       "    </tr>\n",
       "    <tr>\n",
       "      <th>6</th>\n",
       "      <td>0.5</td>\n",
       "    </tr>\n",
       "    <tr>\n",
       "      <th>7</th>\n",
       "      <td>0.5</td>\n",
       "    </tr>\n",
       "    <tr>\n",
       "      <th>10</th>\n",
       "      <td>0.5</td>\n",
       "    </tr>\n",
       "  </tbody>\n",
       "</table>\n",
       "</div>"
      ],
      "text/plain": [
       "    target\n",
       "id        \n",
       "0      0.5\n",
       "2      0.5\n",
       "6      0.5\n",
       "7      0.5\n",
       "10     0.5"
      ]
     },
     "metadata": {},
     "output_type": "display_data"
    }
   ],
   "source": [
    "#Dataset para realizar el submit\n",
    "\n",
    "submission = pd.read_csv(input_path / 'sample_submission.csv', index_col='id')\n",
    "display(submission.head())"
   ]
  },
  {
   "cell_type": "markdown",
   "metadata": {
    "papermill": {
     "duration": 0.020997,
     "end_time": "2021-01-06T01:53:40.796738",
     "exception": false,
     "start_time": "2021-01-06T01:53:40.775741",
     "status": "completed"
    },
    "tags": []
   },
   "source": [
    "# 3. Split del dataset train"
   ]
  },
  {
   "cell_type": "code",
   "execution_count": 5,
   "metadata": {
    "execution": {
     "iopub.execute_input": "2021-01-06T01:53:40.848478Z",
     "iopub.status.busy": "2021-01-06T01:53:40.847145Z",
     "iopub.status.idle": "2021-01-06T01:53:40.850760Z",
     "shell.execute_reply": "2021-01-06T01:53:40.851271Z"
    },
    "papermill": {
     "duration": 0.033961,
     "end_time": "2021-01-06T01:53:40.851455",
     "exception": false,
     "start_time": "2021-01-06T01:53:40.817494",
     "status": "completed"
    },
    "tags": []
   },
   "outputs": [
    {
     "data": {
      "text/plain": [
       "id\n",
       "1    7.243043\n",
       "3    8.203331\n",
       "4    7.776091\n",
       "5    6.957716\n",
       "8    7.951046\n",
       "Name: target, dtype: float64"
      ]
     },
     "execution_count": 5,
     "metadata": {},
     "output_type": "execute_result"
    }
   ],
   "source": [
    "#Selecciono la columna del dataset que tiene la etiqueta del target\n",
    "\n",
    "target = train['target']\n",
    "target.head()"
   ]
  },
  {
   "cell_type": "code",
   "execution_count": 6,
   "metadata": {
    "execution": {
     "iopub.execute_input": "2021-01-06T01:53:40.917838Z",
     "iopub.status.busy": "2021-01-06T01:53:40.917150Z",
     "iopub.status.idle": "2021-01-06T01:53:40.979422Z",
     "shell.execute_reply": "2021-01-06T01:53:40.978809Z"
    },
    "papermill": {
     "duration": 0.10655,
     "end_time": "2021-01-06T01:53:40.979542",
     "exception": false,
     "start_time": "2021-01-06T01:53:40.872992",
     "status": "completed"
    },
    "tags": []
   },
   "outputs": [],
   "source": [
    "#Realizo la division de train/test\n",
    "#Elijo una division 75% / 25%\n",
    "\n",
    "train_clean = train.drop(columns=['target'])\n",
    "X_train, X_test, y_train, y_test = train_test_split(train_clean, target, train_size=0.75)"
   ]
  },
  {
   "cell_type": "code",
   "execution_count": 7,
   "metadata": {
    "execution": {
     "iopub.execute_input": "2021-01-06T01:53:41.044307Z",
     "iopub.status.busy": "2021-01-06T01:53:41.043517Z",
     "iopub.status.idle": "2021-01-06T01:53:41.046560Z",
     "shell.execute_reply": "2021-01-06T01:53:41.047232Z"
    },
    "papermill": {
     "duration": 0.045921,
     "end_time": "2021-01-06T01:53:41.047402",
     "exception": false,
     "start_time": "2021-01-06T01:53:41.001481",
     "status": "completed"
    },
    "tags": []
   },
   "outputs": [
    {
     "data": {
      "text/html": [
       "<div>\n",
       "<style scoped>\n",
       "    .dataframe tbody tr th:only-of-type {\n",
       "        vertical-align: middle;\n",
       "    }\n",
       "\n",
       "    .dataframe tbody tr th {\n",
       "        vertical-align: top;\n",
       "    }\n",
       "\n",
       "    .dataframe thead th {\n",
       "        text-align: right;\n",
       "    }\n",
       "</style>\n",
       "<table border=\"1\" class=\"dataframe\">\n",
       "  <thead>\n",
       "    <tr style=\"text-align: right;\">\n",
       "      <th></th>\n",
       "      <th>cont1</th>\n",
       "      <th>cont2</th>\n",
       "      <th>cont3</th>\n",
       "      <th>cont4</th>\n",
       "      <th>cont5</th>\n",
       "      <th>cont6</th>\n",
       "      <th>cont7</th>\n",
       "      <th>cont8</th>\n",
       "      <th>cont9</th>\n",
       "      <th>cont10</th>\n",
       "      <th>cont11</th>\n",
       "      <th>cont12</th>\n",
       "      <th>cont13</th>\n",
       "      <th>cont14</th>\n",
       "    </tr>\n",
       "    <tr>\n",
       "      <th>id</th>\n",
       "      <th></th>\n",
       "      <th></th>\n",
       "      <th></th>\n",
       "      <th></th>\n",
       "      <th></th>\n",
       "      <th></th>\n",
       "      <th></th>\n",
       "      <th></th>\n",
       "      <th></th>\n",
       "      <th></th>\n",
       "      <th></th>\n",
       "      <th></th>\n",
       "      <th></th>\n",
       "      <th></th>\n",
       "    </tr>\n",
       "  </thead>\n",
       "  <tbody>\n",
       "    <tr>\n",
       "      <th>300113</th>\n",
       "      <td>0.550809</td>\n",
       "      <td>0.682360</td>\n",
       "      <td>0.594540</td>\n",
       "      <td>0.822232</td>\n",
       "      <td>0.572147</td>\n",
       "      <td>0.453934</td>\n",
       "      <td>0.521608</td>\n",
       "      <td>0.422623</td>\n",
       "      <td>0.423648</td>\n",
       "      <td>0.561518</td>\n",
       "      <td>0.686326</td>\n",
       "      <td>0.720339</td>\n",
       "      <td>0.365907</td>\n",
       "      <td>0.729646</td>\n",
       "    </tr>\n",
       "    <tr>\n",
       "      <th>281450</th>\n",
       "      <td>0.696055</td>\n",
       "      <td>0.733371</td>\n",
       "      <td>0.308971</td>\n",
       "      <td>0.734049</td>\n",
       "      <td>0.463910</td>\n",
       "      <td>0.576128</td>\n",
       "      <td>0.546534</td>\n",
       "      <td>0.306611</td>\n",
       "      <td>0.630594</td>\n",
       "      <td>0.814716</td>\n",
       "      <td>0.766426</td>\n",
       "      <td>0.608287</td>\n",
       "      <td>0.809741</td>\n",
       "      <td>0.846508</td>\n",
       "    </tr>\n",
       "    <tr>\n",
       "      <th>379237</th>\n",
       "      <td>0.418866</td>\n",
       "      <td>0.150310</td>\n",
       "      <td>0.535078</td>\n",
       "      <td>0.950913</td>\n",
       "      <td>0.412578</td>\n",
       "      <td>0.482361</td>\n",
       "      <td>0.315604</td>\n",
       "      <td>0.639880</td>\n",
       "      <td>0.398167</td>\n",
       "      <td>0.468887</td>\n",
       "      <td>0.427632</td>\n",
       "      <td>0.478481</td>\n",
       "      <td>0.293748</td>\n",
       "      <td>0.374103</td>\n",
       "    </tr>\n",
       "    <tr>\n",
       "      <th>248819</th>\n",
       "      <td>0.465814</td>\n",
       "      <td>0.792483</td>\n",
       "      <td>0.612441</td>\n",
       "      <td>0.278773</td>\n",
       "      <td>0.284858</td>\n",
       "      <td>0.725248</td>\n",
       "      <td>0.453893</td>\n",
       "      <td>0.363110</td>\n",
       "      <td>0.395123</td>\n",
       "      <td>0.450364</td>\n",
       "      <td>0.774635</td>\n",
       "      <td>0.672682</td>\n",
       "      <td>0.626689</td>\n",
       "      <td>0.734072</td>\n",
       "    </tr>\n",
       "    <tr>\n",
       "      <th>298674</th>\n",
       "      <td>0.490178</td>\n",
       "      <td>0.359140</td>\n",
       "      <td>0.477646</td>\n",
       "      <td>0.256809</td>\n",
       "      <td>0.279533</td>\n",
       "      <td>0.340415</td>\n",
       "      <td>0.408161</td>\n",
       "      <td>0.353454</td>\n",
       "      <td>0.363768</td>\n",
       "      <td>0.440921</td>\n",
       "      <td>0.688862</td>\n",
       "      <td>0.309219</td>\n",
       "      <td>0.675972</td>\n",
       "      <td>0.376075</td>\n",
       "    </tr>\n",
       "  </tbody>\n",
       "</table>\n",
       "</div>"
      ],
      "text/plain": [
       "           cont1     cont2     cont3     cont4     cont5     cont6     cont7  \\\n",
       "id                                                                             \n",
       "300113  0.550809  0.682360  0.594540  0.822232  0.572147  0.453934  0.521608   \n",
       "281450  0.696055  0.733371  0.308971  0.734049  0.463910  0.576128  0.546534   \n",
       "379237  0.418866  0.150310  0.535078  0.950913  0.412578  0.482361  0.315604   \n",
       "248819  0.465814  0.792483  0.612441  0.278773  0.284858  0.725248  0.453893   \n",
       "298674  0.490178  0.359140  0.477646  0.256809  0.279533  0.340415  0.408161   \n",
       "\n",
       "           cont8     cont9    cont10    cont11    cont12    cont13    cont14  \n",
       "id                                                                            \n",
       "300113  0.422623  0.423648  0.561518  0.686326  0.720339  0.365907  0.729646  \n",
       "281450  0.306611  0.630594  0.814716  0.766426  0.608287  0.809741  0.846508  \n",
       "379237  0.639880  0.398167  0.468887  0.427632  0.478481  0.293748  0.374103  \n",
       "248819  0.363110  0.395123  0.450364  0.774635  0.672682  0.626689  0.734072  \n",
       "298674  0.353454  0.363768  0.440921  0.688862  0.309219  0.675972  0.376075  "
      ]
     },
     "execution_count": 7,
     "metadata": {},
     "output_type": "execute_result"
    }
   ],
   "source": [
    "X_train.head()"
   ]
  },
  {
   "cell_type": "code",
   "execution_count": 8,
   "metadata": {
    "execution": {
     "iopub.execute_input": "2021-01-06T01:53:41.100268Z",
     "iopub.status.busy": "2021-01-06T01:53:41.099600Z",
     "iopub.status.idle": "2021-01-06T01:53:41.119983Z",
     "shell.execute_reply": "2021-01-06T01:53:41.120502Z"
    },
    "papermill": {
     "duration": 0.048543,
     "end_time": "2021-01-06T01:53:41.120644",
     "exception": false,
     "start_time": "2021-01-06T01:53:41.072101",
     "status": "completed"
    },
    "tags": []
   },
   "outputs": [
    {
     "data": {
      "text/html": [
       "<div>\n",
       "<style scoped>\n",
       "    .dataframe tbody tr th:only-of-type {\n",
       "        vertical-align: middle;\n",
       "    }\n",
       "\n",
       "    .dataframe tbody tr th {\n",
       "        vertical-align: top;\n",
       "    }\n",
       "\n",
       "    .dataframe thead th {\n",
       "        text-align: right;\n",
       "    }\n",
       "</style>\n",
       "<table border=\"1\" class=\"dataframe\">\n",
       "  <thead>\n",
       "    <tr style=\"text-align: right;\">\n",
       "      <th></th>\n",
       "      <th>cont1</th>\n",
       "      <th>cont2</th>\n",
       "      <th>cont3</th>\n",
       "      <th>cont4</th>\n",
       "      <th>cont5</th>\n",
       "      <th>cont6</th>\n",
       "      <th>cont7</th>\n",
       "      <th>cont8</th>\n",
       "      <th>cont9</th>\n",
       "      <th>cont10</th>\n",
       "      <th>cont11</th>\n",
       "      <th>cont12</th>\n",
       "      <th>cont13</th>\n",
       "      <th>cont14</th>\n",
       "    </tr>\n",
       "    <tr>\n",
       "      <th>id</th>\n",
       "      <th></th>\n",
       "      <th></th>\n",
       "      <th></th>\n",
       "      <th></th>\n",
       "      <th></th>\n",
       "      <th></th>\n",
       "      <th></th>\n",
       "      <th></th>\n",
       "      <th></th>\n",
       "      <th></th>\n",
       "      <th></th>\n",
       "      <th></th>\n",
       "      <th></th>\n",
       "      <th></th>\n",
       "    </tr>\n",
       "  </thead>\n",
       "  <tbody>\n",
       "    <tr>\n",
       "      <th>338895</th>\n",
       "      <td>0.496574</td>\n",
       "      <td>0.811647</td>\n",
       "      <td>0.722969</td>\n",
       "      <td>0.331213</td>\n",
       "      <td>0.963961</td>\n",
       "      <td>0.366836</td>\n",
       "      <td>0.471233</td>\n",
       "      <td>0.256578</td>\n",
       "      <td>0.422076</td>\n",
       "      <td>0.471754</td>\n",
       "      <td>0.356914</td>\n",
       "      <td>0.298517</td>\n",
       "      <td>0.383677</td>\n",
       "      <td>0.836789</td>\n",
       "    </tr>\n",
       "    <tr>\n",
       "      <th>199609</th>\n",
       "      <td>0.648005</td>\n",
       "      <td>0.423015</td>\n",
       "      <td>0.722762</td>\n",
       "      <td>0.218834</td>\n",
       "      <td>0.282657</td>\n",
       "      <td>0.810387</td>\n",
       "      <td>0.813295</td>\n",
       "      <td>0.358938</td>\n",
       "      <td>0.487573</td>\n",
       "      <td>0.442211</td>\n",
       "      <td>0.704756</td>\n",
       "      <td>0.803446</td>\n",
       "      <td>0.765154</td>\n",
       "      <td>0.577237</td>\n",
       "    </tr>\n",
       "    <tr>\n",
       "      <th>449253</th>\n",
       "      <td>0.409918</td>\n",
       "      <td>0.492220</td>\n",
       "      <td>0.923549</td>\n",
       "      <td>0.200889</td>\n",
       "      <td>0.281190</td>\n",
       "      <td>0.416647</td>\n",
       "      <td>0.779343</td>\n",
       "      <td>0.339537</td>\n",
       "      <td>0.361213</td>\n",
       "      <td>0.410170</td>\n",
       "      <td>0.708453</td>\n",
       "      <td>0.705466</td>\n",
       "      <td>0.227069</td>\n",
       "      <td>0.316334</td>\n",
       "    </tr>\n",
       "    <tr>\n",
       "      <th>88458</th>\n",
       "      <td>0.350128</td>\n",
       "      <td>0.215989</td>\n",
       "      <td>0.684891</td>\n",
       "      <td>0.752074</td>\n",
       "      <td>0.757716</td>\n",
       "      <td>0.324578</td>\n",
       "      <td>0.249133</td>\n",
       "      <td>0.934800</td>\n",
       "      <td>0.580649</td>\n",
       "      <td>0.364642</td>\n",
       "      <td>0.253644</td>\n",
       "      <td>0.345850</td>\n",
       "      <td>0.510993</td>\n",
       "      <td>0.220952</td>\n",
       "    </tr>\n",
       "    <tr>\n",
       "      <th>171276</th>\n",
       "      <td>0.636817</td>\n",
       "      <td>0.554259</td>\n",
       "      <td>0.785069</td>\n",
       "      <td>0.558994</td>\n",
       "      <td>0.845442</td>\n",
       "      <td>0.620232</td>\n",
       "      <td>0.579272</td>\n",
       "      <td>0.570741</td>\n",
       "      <td>0.319574</td>\n",
       "      <td>0.636608</td>\n",
       "      <td>0.696905</td>\n",
       "      <td>0.747849</td>\n",
       "      <td>0.731386</td>\n",
       "      <td>0.248991</td>\n",
       "    </tr>\n",
       "  </tbody>\n",
       "</table>\n",
       "</div>"
      ],
      "text/plain": [
       "           cont1     cont2     cont3     cont4     cont5     cont6     cont7  \\\n",
       "id                                                                             \n",
       "338895  0.496574  0.811647  0.722969  0.331213  0.963961  0.366836  0.471233   \n",
       "199609  0.648005  0.423015  0.722762  0.218834  0.282657  0.810387  0.813295   \n",
       "449253  0.409918  0.492220  0.923549  0.200889  0.281190  0.416647  0.779343   \n",
       "88458   0.350128  0.215989  0.684891  0.752074  0.757716  0.324578  0.249133   \n",
       "171276  0.636817  0.554259  0.785069  0.558994  0.845442  0.620232  0.579272   \n",
       "\n",
       "           cont8     cont9    cont10    cont11    cont12    cont13    cont14  \n",
       "id                                                                            \n",
       "338895  0.256578  0.422076  0.471754  0.356914  0.298517  0.383677  0.836789  \n",
       "199609  0.358938  0.487573  0.442211  0.704756  0.803446  0.765154  0.577237  \n",
       "449253  0.339537  0.361213  0.410170  0.708453  0.705466  0.227069  0.316334  \n",
       "88458   0.934800  0.580649  0.364642  0.253644  0.345850  0.510993  0.220952  \n",
       "171276  0.570741  0.319574  0.636608  0.696905  0.747849  0.731386  0.248991  "
      ]
     },
     "execution_count": 8,
     "metadata": {},
     "output_type": "execute_result"
    }
   ],
   "source": [
    "X_test.head()"
   ]
  },
  {
   "cell_type": "code",
   "execution_count": 9,
   "metadata": {
    "execution": {
     "iopub.execute_input": "2021-01-06T01:53:41.173250Z",
     "iopub.status.busy": "2021-01-06T01:53:41.171991Z",
     "iopub.status.idle": "2021-01-06T01:53:41.178581Z",
     "shell.execute_reply": "2021-01-06T01:53:41.177818Z"
    },
    "papermill": {
     "duration": 0.035459,
     "end_time": "2021-01-06T01:53:41.178701",
     "exception": false,
     "start_time": "2021-01-06T01:53:41.143242",
     "status": "completed"
    },
    "tags": []
   },
   "outputs": [
    {
     "data": {
      "text/plain": [
       "id\n",
       "300113    6.796388\n",
       "281450    9.404765\n",
       "379237    8.261529\n",
       "248819    7.508034\n",
       "298674    8.075130\n",
       "Name: target, dtype: float64"
      ]
     },
     "execution_count": 9,
     "metadata": {},
     "output_type": "execute_result"
    }
   ],
   "source": [
    "y_train.head()"
   ]
  },
  {
   "cell_type": "code",
   "execution_count": 10,
   "metadata": {
    "execution": {
     "iopub.execute_input": "2021-01-06T01:53:41.233329Z",
     "iopub.status.busy": "2021-01-06T01:53:41.232428Z",
     "iopub.status.idle": "2021-01-06T01:53:41.236780Z",
     "shell.execute_reply": "2021-01-06T01:53:41.236040Z"
    },
    "papermill": {
     "duration": 0.034701,
     "end_time": "2021-01-06T01:53:41.236900",
     "exception": false,
     "start_time": "2021-01-06T01:53:41.202199",
     "status": "completed"
    },
    "tags": []
   },
   "outputs": [
    {
     "data": {
      "text/plain": [
       "id\n",
       "338895    7.716443\n",
       "199609    8.531244\n",
       "449253    8.331279\n",
       "88458     8.433451\n",
       "171276    8.444353\n",
       "Name: target, dtype: float64"
      ]
     },
     "execution_count": 10,
     "metadata": {},
     "output_type": "execute_result"
    }
   ],
   "source": [
    "y_test.head()"
   ]
  },
  {
   "cell_type": "markdown",
   "metadata": {
    "papermill": {
     "duration": 0.026638,
     "end_time": "2021-01-06T01:53:41.290370",
     "exception": false,
     "start_time": "2021-01-06T01:53:41.263732",
     "status": "completed"
    },
    "tags": []
   },
   "source": [
    "# 4. Regresion Lineal"
   ]
  },
  {
   "cell_type": "markdown",
   "metadata": {
    "papermill": {
     "duration": 0.026567,
     "end_time": "2021-01-06T01:53:41.343925",
     "exception": false,
     "start_time": "2021-01-06T01:53:41.317358",
     "status": "completed"
    },
    "tags": []
   },
   "source": [
    "## 4.1 Opcion 1"
   ]
  },
  {
   "cell_type": "code",
   "execution_count": 11,
   "metadata": {
    "execution": {
     "iopub.execute_input": "2021-01-06T01:53:41.405901Z",
     "iopub.status.busy": "2021-01-06T01:53:41.404605Z",
     "iopub.status.idle": "2021-01-06T01:53:41.574237Z",
     "shell.execute_reply": "2021-01-06T01:53:41.573558Z"
    },
    "papermill": {
     "duration": 0.203893,
     "end_time": "2021-01-06T01:53:41.574399",
     "exception": false,
     "start_time": "2021-01-06T01:53:41.370506",
     "status": "completed"
    },
    "tags": []
   },
   "outputs": [
    {
     "data": {
      "text/plain": [
       "LinearRegression(fit_intercept=False)"
      ]
     },
     "execution_count": 11,
     "metadata": {},
     "output_type": "execute_result"
    }
   ],
   "source": [
    "# Linear Regression\n",
    "\n",
    "model1 = LinearRegression(fit_intercept=False)\n",
    "\n",
    "model1.fit(X_train, y_train)"
   ]
  },
  {
   "cell_type": "code",
   "execution_count": 12,
   "metadata": {
    "execution": {
     "iopub.execute_input": "2021-01-06T01:53:41.631186Z",
     "iopub.status.busy": "2021-01-06T01:53:41.630067Z",
     "iopub.status.idle": "2021-01-06T01:53:41.634098Z",
     "shell.execute_reply": "2021-01-06T01:53:41.633559Z"
    },
    "papermill": {
     "duration": 0.034753,
     "end_time": "2021-01-06T01:53:41.634214",
     "exception": false,
     "start_time": "2021-01-06T01:53:41.599461",
     "status": "completed"
    },
    "tags": []
   },
   "outputs": [
    {
     "data": {
      "text/plain": [
       "array([ 1.55404678,  0.15513139,  4.39475895,  1.77789262,  1.59507505,\n",
       "       -0.25872656,  2.39940893,  0.91281166,  0.41765798, -0.02930671,\n",
       "       -0.77554564, -0.50427896,  1.79216726,  1.62590261])"
      ]
     },
     "execution_count": 12,
     "metadata": {},
     "output_type": "execute_result"
    }
   ],
   "source": [
    "model1.coef_"
   ]
  },
  {
   "cell_type": "code",
   "execution_count": 13,
   "metadata": {
    "execution": {
     "iopub.execute_input": "2021-01-06T01:53:41.692473Z",
     "iopub.status.busy": "2021-01-06T01:53:41.691801Z",
     "iopub.status.idle": "2021-01-06T01:53:41.701623Z",
     "shell.execute_reply": "2021-01-06T01:53:41.701102Z"
    },
    "papermill": {
     "duration": 0.042088,
     "end_time": "2021-01-06T01:53:41.701734",
     "exception": false,
     "start_time": "2021-01-06T01:53:41.659646",
     "status": "completed"
    },
    "tags": []
   },
   "outputs": [
    {
     "data": {
      "text/plain": [
       "array([9.2545802 , 8.70710519, 7.80486847, ..., 5.52809138, 8.09812831,\n",
       "       8.56611614])"
      ]
     },
     "execution_count": 13,
     "metadata": {},
     "output_type": "execute_result"
    }
   ],
   "source": [
    "y_predicted1 = model1.predict(X_test)\n",
    "\n",
    "y_predicted1"
   ]
  },
  {
   "cell_type": "code",
   "execution_count": 14,
   "metadata": {
    "execution": {
     "iopub.execute_input": "2021-01-06T01:53:41.758858Z",
     "iopub.status.busy": "2021-01-06T01:53:41.757851Z",
     "iopub.status.idle": "2021-01-06T01:53:41.764133Z",
     "shell.execute_reply": "2021-01-06T01:53:41.763497Z"
    },
    "papermill": {
     "duration": 0.037349,
     "end_time": "2021-01-06T01:53:41.764250",
     "exception": false,
     "start_time": "2021-01-06T01:53:41.726901",
     "status": "completed"
    },
    "tags": []
   },
   "outputs": [
    {
     "name": "stdout",
     "output_type": "stream",
     "text": [
      "1.32966\n"
     ]
    }
   ],
   "source": [
    "score_model1 = mean_squared_error(y_test, y_predicted1, squared=False)\n",
    "\n",
    "print(f'{score_model1:0.5f}')"
   ]
  },
  {
   "cell_type": "markdown",
   "metadata": {
    "papermill": {
     "duration": 0.025779,
     "end_time": "2021-01-06T01:53:41.816409",
     "exception": false,
     "start_time": "2021-01-06T01:53:41.790630",
     "status": "completed"
    },
    "tags": []
   },
   "source": [
    "## 4.2 Opcion 2"
   ]
  },
  {
   "cell_type": "markdown",
   "metadata": {
    "papermill": {
     "duration": 0.026521,
     "end_time": "2021-01-06T01:53:41.869134",
     "exception": false,
     "start_time": "2021-01-06T01:53:41.842613",
     "status": "completed"
    },
    "tags": []
   },
   "source": [
    "# Linear Regression\n"
   ]
  },
  {
   "cell_type": "code",
   "execution_count": 15,
   "metadata": {
    "execution": {
     "iopub.execute_input": "2021-01-06T01:53:41.929838Z",
     "iopub.status.busy": "2021-01-06T01:53:41.928606Z",
     "iopub.status.idle": "2021-01-06T01:53:42.008666Z",
     "shell.execute_reply": "2021-01-06T01:53:42.008021Z"
    },
    "papermill": {
     "duration": 0.113562,
     "end_time": "2021-01-06T01:53:42.008791",
     "exception": false,
     "start_time": "2021-01-06T01:53:41.895229",
     "status": "completed"
    },
    "tags": []
   },
   "outputs": [
    {
     "data": {
      "text/plain": [
       "LinearRegression(normalize=True)"
      ]
     },
     "execution_count": 15,
     "metadata": {},
     "output_type": "execute_result"
    }
   ],
   "source": [
    "model2 = LinearRegression(normalize=True)\n",
    "\n",
    "model2.fit(X_train, y_train)"
   ]
  },
  {
   "cell_type": "code",
   "execution_count": 16,
   "metadata": {
    "execution": {
     "iopub.execute_input": "2021-01-06T01:53:42.068919Z",
     "iopub.status.busy": "2021-01-06T01:53:42.067864Z",
     "iopub.status.idle": "2021-01-06T01:53:42.072815Z",
     "shell.execute_reply": "2021-01-06T01:53:42.072151Z"
    },
    "papermill": {
     "duration": 0.037057,
     "end_time": "2021-01-06T01:53:42.072933",
     "exception": false,
     "start_time": "2021-01-06T01:53:42.035876",
     "status": "completed"
    },
    "tags": []
   },
   "outputs": [
    {
     "data": {
      "text/plain": [
       "array([-0.26606516,  0.13224819,  0.07347494,  0.10330807,  0.02267571,\n",
       "        0.35732245,  0.14305341,  0.05692722,  0.04200554, -0.3976204 ,\n",
       "        0.12747463,  0.14899719, -0.14345697, -0.01502259])"
      ]
     },
     "execution_count": 16,
     "metadata": {},
     "output_type": "execute_result"
    }
   ],
   "source": [
    "model2.coef_"
   ]
  },
  {
   "cell_type": "code",
   "execution_count": 17,
   "metadata": {
    "execution": {
     "iopub.execute_input": "2021-01-06T01:53:42.134669Z",
     "iopub.status.busy": "2021-01-06T01:53:42.133857Z",
     "iopub.status.idle": "2021-01-06T01:53:42.141682Z",
     "shell.execute_reply": "2021-01-06T01:53:42.142175Z"
    },
    "papermill": {
     "duration": 0.042429,
     "end_time": "2021-01-06T01:53:42.142347",
     "exception": false,
     "start_time": "2021-01-06T01:53:42.099918",
     "status": "completed"
    },
    "tags": []
   },
   "outputs": [
    {
     "data": {
      "text/plain": [
       "array([7.87151572, 8.04925243, 8.06238009, ..., 7.7974375 , 7.93527825,\n",
       "       7.98484321])"
      ]
     },
     "execution_count": 17,
     "metadata": {},
     "output_type": "execute_result"
    }
   ],
   "source": [
    "y_predicted2 = model2.predict(X_test)\n",
    "\n",
    "y_predicted2"
   ]
  },
  {
   "cell_type": "code",
   "execution_count": 18,
   "metadata": {
    "execution": {
     "iopub.execute_input": "2021-01-06T01:53:42.201361Z",
     "iopub.status.busy": "2021-01-06T01:53:42.200349Z",
     "iopub.status.idle": "2021-01-06T01:53:42.210177Z",
     "shell.execute_reply": "2021-01-06T01:53:42.209418Z"
    },
    "papermill": {
     "duration": 0.040419,
     "end_time": "2021-01-06T01:53:42.210334",
     "exception": false,
     "start_time": "2021-01-06T01:53:42.169915",
     "status": "completed"
    },
    "tags": []
   },
   "outputs": [
    {
     "name": "stdout",
     "output_type": "stream",
     "text": [
      "0.72591\n"
     ]
    }
   ],
   "source": [
    "score_model2 = mean_squared_error(y_test, y_predicted2, squared=False)\n",
    "\n",
    "print(f'{score_model2:0.5f}')"
   ]
  },
  {
   "cell_type": "markdown",
   "metadata": {
    "papermill": {
     "duration": 0.02721,
     "end_time": "2021-01-06T01:53:42.265667",
     "exception": false,
     "start_time": "2021-01-06T01:53:42.238457",
     "status": "completed"
    },
    "tags": []
   },
   "source": [
    "# 5. Generacion del Submit"
   ]
  },
  {
   "cell_type": "markdown",
   "metadata": {
    "papermill": {
     "duration": 0.027218,
     "end_time": "2021-01-06T01:53:42.320862",
     "exception": false,
     "start_time": "2021-01-06T01:53:42.293644",
     "status": "completed"
    },
    "tags": []
   },
   "source": [
    "## 5.1 Opcion 1"
   ]
  },
  {
   "cell_type": "code",
   "execution_count": 19,
   "metadata": {
    "execution": {
     "iopub.execute_input": "2021-01-06T01:53:42.383257Z",
     "iopub.status.busy": "2021-01-06T01:53:42.382581Z",
     "iopub.status.idle": "2021-01-06T01:53:43.679439Z",
     "shell.execute_reply": "2021-01-06T01:53:43.678607Z"
    },
    "papermill": {
     "duration": 1.330977,
     "end_time": "2021-01-06T01:53:43.679577",
     "exception": false,
     "start_time": "2021-01-06T01:53:42.348600",
     "status": "completed"
    },
    "tags": []
   },
   "outputs": [],
   "source": [
    "submission['target'] = model1.predict(test)\n",
    "\n",
    "submission.to_csv('linear_regression1.csv')"
   ]
  },
  {
   "cell_type": "markdown",
   "metadata": {
    "papermill": {
     "duration": 0.027247,
     "end_time": "2021-01-06T01:53:43.734685",
     "exception": false,
     "start_time": "2021-01-06T01:53:43.707438",
     "status": "completed"
    },
    "tags": []
   },
   "source": [
    "## 5.2 Opcion 2"
   ]
  },
  {
   "cell_type": "code",
   "execution_count": 20,
   "metadata": {
    "execution": {
     "iopub.execute_input": "2021-01-06T01:53:43.799256Z",
     "iopub.status.busy": "2021-01-06T01:53:43.797456Z",
     "iopub.status.idle": "2021-01-06T01:53:44.673049Z",
     "shell.execute_reply": "2021-01-06T01:53:44.673778Z"
    },
    "papermill": {
     "duration": 0.911619,
     "end_time": "2021-01-06T01:53:44.673951",
     "exception": false,
     "start_time": "2021-01-06T01:53:43.762332",
     "status": "completed"
    },
    "tags": []
   },
   "outputs": [],
   "source": [
    "submission['target'] = model2.predict(test)\n",
    "\n",
    "submission.to_csv('linear_regression2.csv')"
   ]
  }
 ],
 "metadata": {
  "kernelspec": {
   "display_name": "Python 3",
   "language": "python",
   "name": "python3"
  },
  "language_info": {
   "codemirror_mode": {
    "name": "ipython",
    "version": 3
   },
   "file_extension": ".py",
   "mimetype": "text/x-python",
   "name": "python",
   "nbconvert_exporter": "python",
   "pygments_lexer": "ipython3",
   "version": "3.7.6"
  },
  "papermill": {
   "duration": 14.313702,
   "end_time": "2021-01-06T01:53:44.809364",
   "environment_variables": {},
   "exception": null,
   "input_path": "__notebook__.ipynb",
   "output_path": "__notebook__.ipynb",
   "parameters": {},
   "start_time": "2021-01-06T01:53:30.495662",
   "version": "2.1.0"
  }
 },
 "nbformat": 4,
 "nbformat_minor": 4
}
